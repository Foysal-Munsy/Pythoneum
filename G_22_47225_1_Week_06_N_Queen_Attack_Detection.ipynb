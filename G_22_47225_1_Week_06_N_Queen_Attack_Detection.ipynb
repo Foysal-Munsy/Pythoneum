{
  "cells": [
    {
      "cell_type": "markdown",
      "metadata": {
        "id": "i9cjHABdo20A"
      },
      "source": [
        "# N Queen Attack Detection"
      ]
    },
    {
      "cell_type": "code",
      "source": [
        "def drawBoard(P):\n",
        "  N = len(P)\n",
        "  for i in range(1,N+1):\n",
        "    print(\"|\", end=\"\")\n",
        "    for j in range(1,N+1):\n",
        "      if (i,j) in P:\n",
        "        ind = str(1+ P.index((i,j)))\n",
        "        print(\" \"+ind+\" |\", end= \"\")\n",
        "      else:\n",
        "        print(\" * |\", end= \"\")\n",
        "    print()"
      ],
      "metadata": {
        "id": "i8_FUZYg17Dy"
      },
      "execution_count": 2,
      "outputs": []
    },
    {
      "cell_type": "code",
      "source": [
        "import math\n",
        "import random\n",
        "def generate_positions(N):\n",
        "    CL = list(range(0,N*N));\n",
        "    P = []\n",
        "    for i in range(N):\n",
        "        p = random.choice(CL)\n",
        "        CL.remove(p)\n",
        "        r = math.ceil((p+1)/N)\n",
        "        c = 1+p%N\n",
        "        P.append((r,c))\n",
        "        #print('Q{}: {},{}'.format(i+1,r,c))\n",
        "    return P\n",
        "\n",
        "generate_positions(4)"
      ],
      "metadata": {
        "colab": {
          "base_uri": "https://localhost:8080/"
        },
        "id": "4nAKG_sr78Va",
        "outputId": "42b6748d-0510-46e3-bd2d-3a5a54c79bf8"
      },
      "execution_count": 3,
      "outputs": [
        {
          "output_type": "execute_result",
          "data": {
            "text/plain": [
              "[(2, 4), (1, 2), (3, 4), (4, 2)]"
            ]
          },
          "metadata": {},
          "execution_count": 3
        }
      ]
    },
    {
      "cell_type": "code",
      "source": [
        "generate_positions(4)"
      ],
      "metadata": {
        "colab": {
          "base_uri": "https://localhost:8080/"
        },
        "id": "q6cA-IajPZPP",
        "outputId": "60a1604d-00be-4279-ae6c-03c8ff2a99ef"
      },
      "execution_count": 4,
      "outputs": [
        {
          "output_type": "execute_result",
          "data": {
            "text/plain": [
              "[(3, 4), (4, 1), (3, 1), (1, 2)]"
            ]
          },
          "metadata": {},
          "execution_count": 4
        }
      ]
    },
    {
      "cell_type": "code",
      "execution_count": 5,
      "metadata": {
        "colab": {
          "base_uri": "https://localhost:8080/"
        },
        "id": "2dvDEqqTo20L",
        "outputId": "3639cad2-9e54-4290-c02c-1aad3779b05d"
      },
      "outputs": [
        {
          "output_type": "stream",
          "name": "stdout",
          "text": [
            "| * | * | * | 3 |\n",
            "| * | * | * | * |\n",
            "| * | 2 | 4 | * |\n",
            "| * | * | 1 | * |\n"
          ]
        }
      ],
      "source": [
        "N = 4\n",
        "positions = generate_positions(N)\n",
        "drawBoard(positions)"
      ]
    },
    {
      "cell_type": "code",
      "execution_count": 6,
      "metadata": {
        "colab": {
          "base_uri": "https://localhost:8080/"
        },
        "id": "IEMPCDhEo20N",
        "outputId": "37382bc9-4cfe-4063-8441-aad78d75e125"
      },
      "outputs": [
        {
          "output_type": "stream",
          "name": "stdout",
          "text": [
            "row attack: (3, 2), (3, 3)\n"
          ]
        },
        {
          "output_type": "execute_result",
          "data": {
            "text/plain": [
              "1"
            ]
          },
          "metadata": {},
          "execution_count": 6
        }
      ],
      "source": [
        "# row attack\n",
        "def rowAttack(P):\n",
        "  n = len(P)\n",
        "  count = 0\n",
        "  for i in range(n):\n",
        "    for j in range(i+1,n):\n",
        "      if P[i][0] == P[j][0]:\n",
        "        print('row attack:', end = \" \" )\n",
        "        print(P[i], end = \", \")\n",
        "        print(P[j])\n",
        "        count = count + 1\n",
        "  return count\n",
        "\n",
        "rowAttack(positions)"
      ]
    },
    {
      "cell_type": "code",
      "source": [
        "abs(-2)"
      ],
      "metadata": {
        "colab": {
          "base_uri": "https://localhost:8080/"
        },
        "id": "-jDyBTh8RFsX",
        "outputId": "fe953155-d144-4953-ac73-38c30f3efe32"
      },
      "execution_count": null,
      "outputs": [
        {
          "output_type": "execute_result",
          "data": {
            "text/plain": [
              "2"
            ]
          },
          "metadata": {},
          "execution_count": 62
        }
      ]
    },
    {
      "cell_type": "code",
      "execution_count": 7,
      "metadata": {
        "id": "KLBRaUNOo20O",
        "colab": {
          "base_uri": "https://localhost:8080/"
        },
        "outputId": "cb257333-021b-4303-a4ad-b1c258aebead"
      },
      "outputs": [
        {
          "output_type": "stream",
          "name": "stdout",
          "text": [
            "col attack: (4, 3), (3, 3)\n"
          ]
        },
        {
          "output_type": "execute_result",
          "data": {
            "text/plain": [
              "1"
            ]
          },
          "metadata": {},
          "execution_count": 7
        }
      ],
      "source": [
        "#column attack\n",
        "def colAttack(P):\n",
        "  n = len(P)\n",
        "  count = 0\n",
        "  for i in range(n):\n",
        "    for j in range(i+1,n):\n",
        "      if P[i][1] == P[j][1]:\n",
        "        print('col attack:', end = \" \" )\n",
        "        print(P[i], end = \", \")\n",
        "        print(P[j])\n",
        "        count = count + 1\n",
        "  return count\n",
        "\n",
        "colAttack(positions)"
      ]
    },
    {
      "cell_type": "code",
      "execution_count": 8,
      "metadata": {
        "id": "Bmw-Teqio20P",
        "colab": {
          "base_uri": "https://localhost:8080/"
        },
        "outputId": "286fb8e8-29ec-4e01-8c78-92ae8b812c6f"
      },
      "outputs": [
        {
          "output_type": "stream",
          "name": "stdout",
          "text": [
            "diagonal attack: (4, 3), (3, 2)\n",
            "diagonal attack: (3, 2), (1, 4)\n"
          ]
        },
        {
          "output_type": "execute_result",
          "data": {
            "text/plain": [
              "2"
            ]
          },
          "metadata": {},
          "execution_count": 8
        }
      ],
      "source": [
        "# diagonal atack\n",
        "def diaAttack(P):\n",
        "  n = len(P)\n",
        "  count = 0\n",
        "  for i in range(n):\n",
        "    for j in range(i+1,n):\n",
        "      if abs(P[i][0] - P[j][0]) == abs(P[i][1] - P[j][1]):\n",
        "        print('diagonal attack:', end = \" \" )\n",
        "        print(P[i], end = \", \")\n",
        "        print(P[j])\n",
        "        count = count + 1\n",
        "  return count\n",
        "\n",
        "diaAttack(positions)"
      ]
    },
    {
      "cell_type": "code",
      "execution_count": 9,
      "metadata": {
        "id": "1hQCBWSoo20Q"
      },
      "outputs": [],
      "source": [
        "# implement a method to print a state is valid or not\n",
        "\n",
        "def isValid(P):\n",
        "    if rowAttack(P) == 0 and colAttack(P) == 0 and diaAttack(P) == 0:\n",
        "        return True\n",
        "    else:\n",
        "        return False\n",
        "\n"
      ]
    },
    {
      "cell_type": "code",
      "source": [
        "# call isValid untill you get valid solution\n",
        "\n",
        "def generate_new_state(N):\n",
        "    return [(random.randint(0, N-1), col) for col in range(N)]\n",
        "\n",
        "P = generate_new_state(N)\n",
        "\n",
        "# Keep generating new states until a valid one is found.\n",
        "while not isValid(P):\n",
        "    P = generate_new_state(N)\n",
        "\n",
        "print(\"Found a valid state:\", P)\n",
        "\n",
        "\n"
      ],
      "metadata": {
        "id": "Mzr-Rt9kR9Xn",
        "colab": {
          "base_uri": "https://localhost:8080/"
        },
        "outputId": "5a8a9654-bb89-497c-b310-11a429b30931"
      },
      "execution_count": 14,
      "outputs": [
        {
          "output_type": "stream",
          "name": "stdout",
          "text": [
            "row attack: (3, 1), (3, 2)\n",
            "row attack: (2, 0), (2, 1)\n",
            "row attack: (3, 0), (3, 3)\n",
            "row attack: (1, 0), (1, 1)\n",
            "row attack: (1, 0), (1, 3)\n",
            "row attack: (1, 1), (1, 3)\n",
            "row attack: (1, 0), (1, 2)\n",
            "row attack: (0, 2), (0, 3)\n",
            "row attack: (0, 0), (0, 1)\n",
            "row attack: (3, 0), (3, 1)\n",
            "row attack: (3, 0), (3, 2)\n",
            "row attack: (3, 1), (3, 2)\n",
            "row attack: (2, 0), (2, 1)\n",
            "row attack: (2, 0), (2, 3)\n",
            "row attack: (2, 1), (2, 3)\n",
            "diagonal attack: (0, 0), (1, 1)\n",
            "diagonal attack: (3, 2), (2, 3)\n",
            "row attack: (2, 0), (2, 3)\n",
            "row attack: (0, 0), (0, 1)\n",
            "row attack: (1, 2), (1, 3)\n",
            "row attack: (3, 1), (3, 2)\n",
            "row attack: (3, 1), (3, 3)\n",
            "row attack: (3, 2), (3, 3)\n",
            "row attack: (1, 0), (1, 2)\n",
            "row attack: (1, 0), (1, 3)\n",
            "row attack: (1, 2), (1, 3)\n",
            "row attack: (2, 0), (2, 1)\n",
            "row attack: (2, 0), (2, 2)\n",
            "row attack: (2, 1), (2, 2)\n",
            "row attack: (0, 1), (0, 3)\n",
            "row attack: (0, 0), (0, 1)\n",
            "row attack: (0, 2), (0, 3)\n",
            "diagonal attack: (1, 0), (2, 1)\n",
            "diagonal attack: (1, 0), (3, 2)\n",
            "diagonal attack: (2, 1), (3, 2)\n",
            "diagonal attack: (2, 1), (0, 3)\n",
            "row attack: (1, 0), (1, 1)\n",
            "row attack: (0, 2), (0, 3)\n",
            "row attack: (0, 0), (0, 2)\n",
            "row attack: (0, 0), (0, 3)\n",
            "row attack: (0, 2), (0, 3)\n",
            "row attack: (2, 1), (2, 3)\n",
            "Found a valid state: [(1, 0), (3, 1), (0, 2), (2, 3)]\n"
          ]
        }
      ]
    }
  ],
  "metadata": {
    "kernelspec": {
      "display_name": "Python 3",
      "language": "python",
      "name": "python3"
    },
    "language_info": {
      "codemirror_mode": {
        "name": "ipython",
        "version": 3
      },
      "file_extension": ".py",
      "mimetype": "text/x-python",
      "name": "python",
      "nbconvert_exporter": "python",
      "pygments_lexer": "ipython3",
      "version": "3.8.5"
    },
    "colab": {
      "provenance": []
    }
  },
  "nbformat": 4,
  "nbformat_minor": 0
}