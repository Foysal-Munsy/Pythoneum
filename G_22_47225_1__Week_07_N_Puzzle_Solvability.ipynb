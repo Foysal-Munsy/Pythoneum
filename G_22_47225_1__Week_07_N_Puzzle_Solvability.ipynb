{
  "cells": [
    {
      "cell_type": "markdown",
      "metadata": {
        "id": "nz8Q6nBSaf7k"
      },
      "source": [
        "###### To solve a puzzle, you are given an initial state and a goal state.\n",
        "###### Target is to reach goal state from initial state using puzzle rules.\n",
        "######  We can move blank tile only on left, right, up, and down\n",
        "![image.png](data:image/png;base64,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)"
      ]
    },
    {
      "cell_type": "markdown",
      "metadata": {
        "id": "SaqziTVFaf7s"
      },
      "source": [
        "# Generate an intial state of NPuzzle"
      ]
    },
    {
      "cell_type": "code",
      "source": [
        "#adding support for large, multi-dimensional arrays and matrices,\n",
        "#along with a large collection of high-level mathematical\n",
        "#functions to operate on these arrays.\n",
        "import numpy as np\n",
        "import random\n",
        "import math"
      ],
      "metadata": {
        "id": "Sy3Dl1NXLEPc"
      },
      "execution_count": 10,
      "outputs": []
    },
    {
      "cell_type": "code",
      "execution_count": 14,
      "metadata": {
        "scrolled": true,
        "id": "iTX34gUNaf7t",
        "colab": {
          "base_uri": "https://localhost:8080/"
        },
        "outputId": "4e3c28d6-be50-4bd2-d7af-d66cf14530b5"
      },
      "outputs": [
        {
          "output_type": "stream",
          "name": "stdout",
          "text": [
            "[[ 4  1 13  9]\n",
            " [ 0  8  2 11]\n",
            " [10  5 14  3]\n",
            " [ 6 12 15  7]]\n",
            "[4, 1, 13, 9, 0, 8, 2, 11, 10, 5, 14, 3, 6, 12, 15, 7]\n"
          ]
        }
      ],
      "source": [
        "def get_state():\n",
        "      #random choice slects random item from the list\n",
        "    n = random.choice([3,4,5]) #selects random number from 3-5 & assign it to the variable n\n",
        "    #range() function generates a sequence of numbers, which is then converted to a list using the list() function.\n",
        "    state = list(range(n**2)) #creates a list of numbers from 0 to n**2 - 1\n",
        "    #random.shuffle() function is used to randomly reorder/shuffle the elements of a list.\n",
        "    random.shuffle(state)\n",
        "    #converts the state list to a NumPy array using the np.array() function.\n",
        "    #then, it reshapes the array into a n by n matrix using the reshape() function. Finally, it prints this matrix.\n",
        "    print(np.array(state).reshape(n,n))\n",
        "    return state\n",
        "st = get_state()\n",
        "print(st)"
      ]
    },
    {
      "cell_type": "code",
      "source": [
        "def get_dim(state):\n",
        "  #returns the square root of the length of state, converted to an integer\n",
        "  return int(math.sqrt(len(state)))\n",
        "\n",
        "get_dim(st)"
      ],
      "metadata": {
        "id": "UePds4atNrz_",
        "colab": {
          "base_uri": "https://localhost:8080/"
        },
        "outputId": "af53eea7-ffa9-4e0b-f2ea-f644740b2a12"
      },
      "execution_count": 15,
      "outputs": [
        {
          "output_type": "execute_result",
          "data": {
            "text/plain": [
              "4"
            ]
          },
          "metadata": {},
          "execution_count": 15
        }
      ]
    },
    {
      "cell_type": "markdown",
      "metadata": {
        "id": "3hD4ieUaaf7x"
      },
      "source": [
        "# Calculate inversion"
      ]
    },
    {
      "cell_type": "markdown",
      "metadata": {
        "id": "CkoMv0C8af7y"
      },
      "source": [
        "Inversion is a pair of tiles that are in the reverse order from where they ought to be. In our case, the bigger number is in front of the smaller one.\n",
        "\n"
      ]
    },
    {
      "cell_type": "code",
      "execution_count": 34,
      "metadata": {
        "id": "-W9FOmneaf7z",
        "colab": {
          "base_uri": "https://localhost:8080/"
        },
        "outputId": "ec0edbe8-7b7a-45da-8cd7-cbdd9b34f97d"
      },
      "outputs": [
        {
          "output_type": "execute_result",
          "data": {
            "text/plain": [
              "40"
            ]
          },
          "metadata": {},
          "execution_count": 34
        }
      ],
      "source": [
        "def get_invCount(state):\n",
        "    count = 0\n",
        "    for i in range(len(state)):\n",
        "        for j in range(i+1,len(state)):\n",
        "            if state[j]!=0 and state[i] > state[j]:\n",
        "              count += 1\n",
        "    return count\n",
        "\n",
        "get_invCount(st)"
      ]
    },
    {
      "cell_type": "code",
      "source": [
        "st.index(0)"
      ],
      "metadata": {
        "colab": {
          "base_uri": "https://localhost:8080/"
        },
        "id": "znluowb7Jot_",
        "outputId": "c6758010-8f98-482d-d1cf-babf8c5da8b7"
      },
      "execution_count": 17,
      "outputs": [
        {
          "output_type": "execute_result",
          "data": {
            "text/plain": [
              "4"
            ]
          },
          "metadata": {},
          "execution_count": 17
        }
      ]
    },
    {
      "cell_type": "markdown",
      "source": [
        "# **Find blank row**"
      ],
      "metadata": {
        "id": "EDn9_ODN1RFU"
      }
    },
    {
      "cell_type": "code",
      "execution_count": 21,
      "metadata": {
        "id": "R7-N-A6Oaf76"
      },
      "outputs": [],
      "source": [
        "# find row position of the blank tile\n",
        "def get_blank_row(s):\n",
        "    n = int(math.sqrt(len(s)))  # Get the dimension of the square\n",
        "    for i in range(len(s)):\n",
        "        if s[i] == 0:\n",
        "            return i // n + 1  # Return the row position, rows start from 1\n",
        "\n",
        "\n"
      ]
    },
    {
      "cell_type": "markdown",
      "metadata": {
        "id": "8bTLG_ZQaf73"
      },
      "source": [
        "# Solvability Rules"
      ]
    },
    {
      "cell_type": "code",
      "execution_count": 29,
      "metadata": {
        "id": "0ciw2n-uaf77"
      },
      "outputs": [],
      "source": [
        "# apply the rules to decide solvability\n",
        "#  N, I, R\n",
        "# define a method to return solvability (input S)\n",
        "# return True if solvable or False if not\n",
        "def isSolvable(state):\n",
        "  N = get_dim(state)\n",
        "  I = get_invCount(state)\n",
        "  R = get_blank_row(state)\n",
        "\n",
        "  # For a puzzle of odd size, it's solvable if the number of inversions is even\n",
        "  if N % 2 == 1:\n",
        "    return I % 2 == 0\n",
        "\n",
        "  # For a puzzle of even size, it's solvable if the blank is on an even row counting from the bottom and number of inversions is odd\n",
        "  # or the blank is on an odd row counting from the bottom and number of inversions is even\n",
        "  else:\n",
        "    return (R % 2 == 0 and I % 2 == 1) or (R % 2 == 1 and I % 2 == 0)\n"
      ]
    },
    {
      "cell_type": "code",
      "source": [
        "isSolvable(st)"
      ],
      "metadata": {
        "id": "u2TGpQfNhnP2",
        "colab": {
          "base_uri": "https://localhost:8080/"
        },
        "outputId": "fd37653a-4888-4880-c954-7911d328e391"
      },
      "execution_count": 30,
      "outputs": [
        {
          "output_type": "execute_result",
          "data": {
            "text/plain": [
              "False"
            ]
          },
          "metadata": {},
          "execution_count": 30
        }
      ]
    },
    {
      "cell_type": "code",
      "source": [
        "s = get_state()\n",
        "while(not isSolvable(s)):\n",
        "  s = get_state()\n",
        "print(s)\n"
      ],
      "metadata": {
        "id": "tWVgVv0oTX2m",
        "colab": {
          "base_uri": "https://localhost:8080/"
        },
        "outputId": "38422c25-1057-45b0-bee6-edc617d25cfe"
      },
      "execution_count": 33,
      "outputs": [
        {
          "output_type": "stream",
          "name": "stdout",
          "text": [
            "[[ 7  8  2  3]\n",
            " [ 0 10  1  9]\n",
            " [11  4  5 12]\n",
            " [15  6 13 14]]\n",
            "[7, 8, 2, 3, 0, 10, 1, 9, 11, 4, 5, 12, 15, 6, 13, 14]\n"
          ]
        }
      ]
    }
  ],
  "metadata": {
    "kernelspec": {
      "display_name": "Python 3",
      "language": "python",
      "name": "python3"
    },
    "language_info": {
      "codemirror_mode": {
        "name": "ipython",
        "version": 3
      },
      "file_extension": ".py",
      "mimetype": "text/x-python",
      "name": "python",
      "nbconvert_exporter": "python",
      "pygments_lexer": "ipython3",
      "version": "3.8.5"
    },
    "colab": {
      "provenance": []
    }
  },
  "nbformat": 4,
  "nbformat_minor": 0
}