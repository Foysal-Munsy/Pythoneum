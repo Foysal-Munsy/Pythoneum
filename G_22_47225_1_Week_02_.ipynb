{
  "cells": [
    {
      "cell_type": "markdown",
      "metadata": {
        "id": "view-in-github",
        "colab_type": "text"
      },
      "source": [
        "<a href=\"https://colab.research.google.com/github/Foysal-Munsy/Pythoneum/blob/main/G_22_47225_1_Week_02_.ipynb\" target=\"_parent\"><img src=\"https://colab.research.google.com/assets/colab-badge.svg\" alt=\"Open In Colab\"/></a>"
      ]
    },
    {
      "cell_type": "markdown",
      "metadata": {
        "id": "gVdgbvf19OA9"
      },
      "source": [
        "# About this notebook\n",
        "<p style=\"text-align: justify\"> Here, you will learn the basic statements of python and function. Some codes will be given for demonstration. Some other codes, you will do as excercise.</p>\n",
        "\n",
        "## Submission\n",
        "<p style=\"text-align: justify\">After completing the practice codes and exercises, download the notebook (.pynb file) and submit the notebook  to MS Teams inbox in the class period</p>\n",
        "<p> 1.<b> You must submit your own code</b>. If similarity found negative marking will be given.</p>\n",
        "<p> 2. Modify the file name writing your section and ID at the beigining of the file name. <b>Example: F_20-45961-3_Week 01.ipynb</b></p>\n",
        "<p> 3. Other file format (except .pynb) will not be accepted.</p>"
      ]
    },
    {
      "cell_type": "markdown",
      "metadata": {
        "id": "sVSQpyqT9OBH"
      },
      "source": [
        "# User Input"
      ]
    },
    {
      "cell_type": "code",
      "execution_count": null,
      "metadata": {
        "colab": {
          "base_uri": "https://localhost:8080/"
        },
        "id": "JPTt3qbo9OBI",
        "outputId": "2e56d353-b88f-4577-aa09-00dc06af6efd"
      },
      "outputs": [
        {
          "output_type": "stream",
          "name": "stdout",
          "text": [
            "100\n"
          ]
        }
      ],
      "source": [
        "a = 100\n",
        "print(a)"
      ]
    },
    {
      "cell_type": "code",
      "source": [
        "a = input()\n",
        "print(a)"
      ],
      "metadata": {
        "id": "YCouIBhhorBO",
        "colab": {
          "base_uri": "https://localhost:8080/"
        },
        "outputId": "72f8a32f-3d39-4ab0-e22f-886c151f7eb6"
      },
      "execution_count": null,
      "outputs": [
        {
          "output_type": "stream",
          "name": "stdout",
          "text": [
            "100\n",
            "100\n"
          ]
        }
      ]
    },
    {
      "cell_type": "code",
      "execution_count": null,
      "metadata": {
        "colab": {
          "base_uri": "https://localhost:8080/"
        },
        "id": "WgnNFESa9OBL",
        "outputId": "22a68a1e-6c09-4219-a432-f49cf843e196"
      },
      "outputs": [
        {
          "output_type": "stream",
          "name": "stdout",
          "text": [
            "Enter a value: 100\n",
            "The given value is 100\n",
            "<class 'str'>\n"
          ]
        }
      ],
      "source": [
        "a = input('Enter a value: ') # always returns string\n",
        "print('The given value is '+ a)\n",
        "print(type(a))"
      ]
    },
    {
      "cell_type": "code",
      "execution_count": null,
      "metadata": {
        "id": "qGfffqzZ9OBM",
        "colab": {
          "base_uri": "https://localhost:8080/"
        },
        "outputId": "a06ad261-f47b-4e83-e858-ad0da465e9b3"
      },
      "outputs": [
        {
          "output_type": "stream",
          "name": "stdout",
          "text": [
            "Enter a number: 100\n",
            "The result is 111\n",
            "<class 'int'>\n"
          ]
        }
      ],
      "source": [
        "a = int(input('Enter a number: ')) # returns string but converted to int\n",
        "print('The result is', a+11)\n",
        "print(type(a))"
      ]
    },
    {
      "cell_type": "code",
      "source": [
        "while True:\n",
        "  a = input('Enter your Birth Year:')\n",
        "  if a.isdigit():\n",
        "    print('You are ' + str(2022-int(a)) + ' years old')\n",
        "    print(2023-int(a))\n",
        "    break\n",
        "  print('WRONG INPUT')"
      ],
      "metadata": {
        "id": "LhsfvXa7lAk8",
        "colab": {
          "base_uri": "https://localhost:8080/"
        },
        "outputId": "eafb9ffb-3e10-415a-e47f-50c855026fda"
      },
      "execution_count": null,
      "outputs": [
        {
          "output_type": "stream",
          "name": "stdout",
          "text": [
            "Enter your Birth Year:2000\n",
            "You are 22 years old\n",
            "23\n"
          ]
        }
      ]
    },
    {
      "cell_type": "markdown",
      "metadata": {
        "id": "yd5uai6a9OBO"
      },
      "source": [
        "# if statement\n",
        "There can be zero or more elif parts, and the else part is optional. The keyword ‘elif’ is short for ‘else if’"
      ]
    },
    {
      "cell_type": "code",
      "execution_count": null,
      "metadata": {
        "colab": {
          "base_uri": "https://localhost:8080/"
        },
        "id": "bkNWtGEA9OBP",
        "outputId": "1615de9d-dfba-4b61-a82c-0abaf8731b97"
      },
      "outputs": [
        {
          "output_type": "stream",
          "name": "stdout",
          "text": [
            "bad\n",
            "not okay\n"
          ]
        }
      ],
      "source": [
        "# indent\n",
        "i = 6\n",
        "if i < 5: # () not required, {} not required\n",
        "  print('okay')\n",
        "  print('fine')\n",
        "else:\n",
        "  print('bad')\n",
        "print('not okay') # will be executed in each run"
      ]
    },
    {
      "cell_type": "code",
      "execution_count": null,
      "metadata": {
        "colab": {
          "base_uri": "https://localhost:8080/"
        },
        "id": "4-2lHhfa9OBQ",
        "outputId": "118dfad4-35d8-4c2f-904b-54b89808a61f"
      },
      "outputs": [
        {
          "output_type": "stream",
          "name": "stdout",
          "text": [
            "Please enter an integer: 100\n",
            "More\n"
          ]
        }
      ],
      "source": [
        "x = int(input(\"Please enter an integer: \"))\n",
        "if x < 0:\n",
        "    x = 0\n",
        "    print('Negative changed to zero')\n",
        "elif x == 0:\n",
        "    print('Zero')\n",
        "elif x == 1:\n",
        "    print('Single')\n",
        "else:\n",
        "  print('More')"
      ]
    },
    {
      "cell_type": "markdown",
      "metadata": {
        "id": "CeTgipag9OBR"
      },
      "source": [
        "<b>Exercise 1:</b> Input a course mark (0-100) from user and use the <b>if</b> statement to print corresponding grade."
      ]
    },
    {
      "cell_type": "code",
      "execution_count": null,
      "metadata": {
        "id": "75nu_spY9OBS",
        "colab": {
          "base_uri": "https://localhost:8080/"
        },
        "outputId": "b9746fb0-37e1-4eb6-ebd0-4ea6d5efa17b"
      },
      "outputs": [
        {
          "output_type": "stream",
          "name": "stdout",
          "text": [
            "Please enter your marks: 89\n",
            "A\n"
          ]
        }
      ],
      "source": [
        "# code here\n",
        "x = int(input(\"Please enter your marks: \"))\n",
        "if x<=100 and x>=90:\n",
        "  print('A+')\n",
        "elif x<90 and x>=85:\n",
        "  print('A')\n",
        "elif x<85 and x>=80:\n",
        "  print('B+')\n",
        "elif x<80 and x>=75:\n",
        "  print('B')\n",
        "elif x<75 and x>=70:\n",
        "  print('C+')\n",
        "elif x<70 and x>=65:\n",
        "  print('C')\n",
        "elif x<65 and x>=60:\n",
        "  print('D+')\n",
        "elif x<60 and x>=55:\n",
        "  print('D')\n",
        "else:\n",
        "  print('F')\n"
      ]
    },
    {
      "cell_type": "markdown",
      "metadata": {
        "id": "BLPDtgWr9OBT"
      },
      "source": [
        "# for statement\n",
        "<p style=\"text-align: justify\">The for statement in Python differs a bit from what you may be used to in C or C++. Rather than always giving the user the ability to define both the iteration step and halting condition, Python’s for statement iterates over the items of any sequence (a list or a string), in the order that they appear in the sequence.</p>"
      ]
    },
    {
      "cell_type": "code",
      "execution_count": null,
      "metadata": {
        "colab": {
          "base_uri": "https://localhost:8080/"
        },
        "id": "k6eiUKVF9OBU",
        "outputId": "b7b95423-1f89-4561-bb5c-a5e40ba40c9d"
      },
      "outputs": [
        {
          "output_type": "stream",
          "name": "stdout",
          "text": [
            "the word is: cat\n",
            "the word is: window\n",
            "the word is: dhaka\n",
            "the word is: ctg\n"
          ]
        }
      ],
      "source": [
        "# Measure some strings:\n",
        "words = ['cat', 'window', 'dhaka','ctg']\n",
        "\n",
        "for w in words:\n",
        "    print('the word is:',w)"
      ]
    },
    {
      "cell_type": "code",
      "source": [
        "words = ['cat', 'window', 'dhaka','ctg']\n",
        "for i in range(len(words)):\n",
        "    print('the word is:',words[i])"
      ],
      "metadata": {
        "colab": {
          "base_uri": "https://localhost:8080/"
        },
        "id": "NdM3WOnovXx2",
        "outputId": "b2d94438-df72-44b7-fbae-0d77e964dfa4"
      },
      "execution_count": null,
      "outputs": [
        {
          "output_type": "stream",
          "name": "stdout",
          "text": [
            "the word is: cat\n",
            "the word is: window\n",
            "the word is: dhaka\n",
            "the word is: ctg\n"
          ]
        }
      ]
    },
    {
      "cell_type": "code",
      "source": [
        "list(range(2,10))"
      ],
      "metadata": {
        "colab": {
          "base_uri": "https://localhost:8080/"
        },
        "id": "22etO_4J87wJ",
        "outputId": "bf951c84-4566-4562-9d08-36b1e69ee0a9"
      },
      "execution_count": null,
      "outputs": [
        {
          "output_type": "execute_result",
          "data": {
            "text/plain": [
              "[2, 3, 4, 5, 6, 7, 8, 9]"
            ]
          },
          "metadata": {},
          "execution_count": 41
        }
      ]
    },
    {
      "cell_type": "code",
      "execution_count": null,
      "metadata": {
        "colab": {
          "base_uri": "https://localhost:8080/"
        },
        "id": "gxRxRU9B9OBW",
        "outputId": "3f4ac72d-ccee-43a3-8749-b38b8b7bf38d"
      },
      "outputs": [
        {
          "output_type": "stream",
          "name": "stdout",
          "text": [
            "13\n",
            "76\n",
            "98\n",
            "108\n",
            "87\n"
          ]
        }
      ],
      "source": [
        "numbers = [3, 66, 88, 98,77]\n",
        "\n",
        "for n in numbers:\n",
        "    print(n+10)"
      ]
    },
    {
      "cell_type": "code",
      "source": [
        "list(range(5))"
      ],
      "metadata": {
        "colab": {
          "base_uri": "https://localhost:8080/"
        },
        "id": "xM7Q3lOs1Zq1",
        "outputId": "96b6df24-7c46-4387-afe6-2fb711394b45"
      },
      "execution_count": null,
      "outputs": [
        {
          "output_type": "execute_result",
          "data": {
            "text/plain": [
              "[0, 1, 2, 3, 4]"
            ]
          },
          "metadata": {},
          "execution_count": 44
        }
      ]
    },
    {
      "cell_type": "markdown",
      "metadata": {
        "id": "OnIIzz_29OBX"
      },
      "source": [
        "### The range() Function\n",
        "If you do need to iterate over a sequence of numbers, the built-in function range() comes in handy. It generates arithmetic progressions:"
      ]
    },
    {
      "cell_type": "code",
      "execution_count": null,
      "metadata": {
        "colab": {
          "base_uri": "https://localhost:8080/"
        },
        "id": "eIvd_Nhy9OBY",
        "outputId": "d619f418-92df-422d-bae9-30f3c501b85b"
      },
      "outputs": [
        {
          "output_type": "stream",
          "name": "stdout",
          "text": [
            "0\n",
            "2\n",
            "4\n",
            "6\n",
            "8\n",
            "10\n",
            "12\n",
            "14\n",
            "16\n",
            "18\n"
          ]
        }
      ],
      "source": [
        "# repeated for 0 to 4\n",
        "# for(i=0;i<5;i++)\n",
        "for i in range(0,20,2):\n",
        "    print(i)"
      ]
    },
    {
      "cell_type": "markdown",
      "source": [],
      "metadata": {
        "id": "AchXCJANSxdv"
      }
    },
    {
      "cell_type": "markdown",
      "metadata": {
        "id": "Tdu8trNj9OBZ"
      },
      "source": [
        "<p style=\"text-align: justify\">The given end point is never part of the generated sequence; range(10) generates 10 values, the legal indices for items of a sequence of length 10. It is possible to let the range start at another number, or to specify a different increment (even negative; sometimes this is called the ‘step’):</p>"
      ]
    },
    {
      "cell_type": "code",
      "execution_count": null,
      "metadata": {
        "colab": {
          "base_uri": "https://localhost:8080/"
        },
        "id": "0l562ow69OBZ",
        "outputId": "5d024c0a-9d50-4665-bc83-7994b84f5b31"
      },
      "outputs": [
        {
          "output_type": "execute_result",
          "data": {
            "text/plain": [
              "[5, 6, 7, 8, 9]"
            ]
          },
          "metadata": {},
          "execution_count": 46
        }
      ],
      "source": [
        "list(range(5, 10))"
      ]
    },
    {
      "cell_type": "code",
      "execution_count": null,
      "metadata": {
        "colab": {
          "base_uri": "https://localhost:8080/"
        },
        "id": "7cGVhf0o9OBa",
        "outputId": "0e43cb01-d593-429c-be1c-a7bf9e089e4c"
      },
      "outputs": [
        {
          "output_type": "execute_result",
          "data": {
            "text/plain": [
              "[0, 3, 6, 9]"
            ]
          },
          "metadata": {},
          "execution_count": 47
        }
      ],
      "source": [
        "list(range(0, 10, 3))"
      ]
    },
    {
      "cell_type": "code",
      "source": [
        "list(range(10, 2, -1))"
      ],
      "metadata": {
        "colab": {
          "base_uri": "https://localhost:8080/"
        },
        "id": "iJrB_nyirUin",
        "outputId": "9aa29cd1-a7d4-48a9-cb95-cbe129c06c62"
      },
      "execution_count": null,
      "outputs": [
        {
          "output_type": "execute_result",
          "data": {
            "text/plain": [
              "[10, 9, 8, 7, 6, 5, 4, 3]"
            ]
          },
          "metadata": {},
          "execution_count": 48
        }
      ]
    },
    {
      "cell_type": "code",
      "execution_count": null,
      "metadata": {
        "colab": {
          "base_uri": "https://localhost:8080/"
        },
        "id": "NySucrFE9OBa",
        "outputId": "222f241c-d4dd-448a-d99b-e85558af1603"
      },
      "outputs": [
        {
          "output_type": "execute_result",
          "data": {
            "text/plain": [
              "[-10, -40, -70, -100]"
            ]
          },
          "metadata": {},
          "execution_count": 49
        }
      ],
      "source": [
        "list(range(-10, -101, -30))"
      ]
    },
    {
      "cell_type": "code",
      "execution_count": null,
      "metadata": {
        "colab": {
          "base_uri": "https://localhost:8080/"
        },
        "id": "XF2vWGQb9OBb",
        "outputId": "ed5828b6-a8a3-4f00-87e0-6d20d8d755c4"
      },
      "outputs": [
        {
          "output_type": "stream",
          "name": "stdout",
          "text": [
            "0 3\n",
            "1 66\n",
            "2 88\n",
            "3 98\n",
            "4 77\n"
          ]
        }
      ],
      "source": [
        "for i in range(len(numbers)):\n",
        "    print(i, numbers[i])"
      ]
    },
    {
      "cell_type": "code",
      "execution_count": null,
      "metadata": {
        "colab": {
          "base_uri": "https://localhost:8080/"
        },
        "id": "O4fHt_Qt9OBb",
        "outputId": "aff0b5d7-d631-42c2-950a-497999564eae"
      },
      "outputs": [
        {
          "output_type": "stream",
          "name": "stdout",
          "text": [
            "2,7,12,17,22,27,32,37,42,47,52,57,62,67,72,77,82,87,92,97,"
          ]
        }
      ],
      "source": [
        "for i in range(2,100,5):\n",
        "    print(i,end=',')"
      ]
    },
    {
      "cell_type": "markdown",
      "metadata": {
        "id": "_0M3Y1F09OBc"
      },
      "source": [
        "<b>Exercise 2:</b> Print all the even numbers between 0 to 100 using <b>for loop</b> and <b>range</b>."
      ]
    },
    {
      "cell_type": "code",
      "execution_count": null,
      "metadata": {
        "id": "nzKgmsMy9OBc",
        "colab": {
          "base_uri": "https://localhost:8080/"
        },
        "outputId": "17c187a7-8104-4452-8daf-cd6f87f53a2c"
      },
      "outputs": [
        {
          "output_type": "stream",
          "name": "stdout",
          "text": [
            "0\n",
            "2\n",
            "4\n",
            "6\n",
            "8\n",
            "10\n",
            "12\n",
            "14\n",
            "16\n",
            "18\n",
            "20\n",
            "22\n",
            "24\n",
            "26\n",
            "28\n",
            "30\n",
            "32\n",
            "34\n",
            "36\n",
            "38\n",
            "40\n",
            "42\n",
            "44\n",
            "46\n",
            "48\n",
            "50\n",
            "52\n",
            "54\n",
            "56\n",
            "58\n",
            "60\n",
            "62\n",
            "64\n",
            "66\n",
            "68\n",
            "70\n",
            "72\n",
            "74\n",
            "76\n",
            "78\n",
            "80\n",
            "82\n",
            "84\n",
            "86\n",
            "88\n",
            "90\n",
            "92\n",
            "94\n",
            "96\n",
            "98\n",
            "100\n"
          ]
        }
      ],
      "source": [
        "# code here\n",
        "for i in range(0,101,2):\n",
        "  # if i%2==0:\n",
        "    print(i)"
      ]
    },
    {
      "cell_type": "code",
      "execution_count": null,
      "metadata": {
        "colab": {
          "base_uri": "https://localhost:8080/"
        },
        "id": "CxyodY3I9OBd",
        "outputId": "1d9e20f4-98ba-497b-f2fb-79f131b55d2f"
      },
      "outputs": [
        {
          "output_type": "stream",
          "name": "stdout",
          "text": [
            "b a n g l a d e s h "
          ]
        }
      ],
      "source": [
        "country = \"bangladesh\"\n",
        "for c in country:\n",
        "    print(c,end=' ')"
      ]
    },
    {
      "cell_type": "markdown",
      "metadata": {
        "id": "UpWE7Kch9OBd"
      },
      "source": [
        "# Functions\n",
        "<p style=\"text-align: justify\">The keyword def introduces a function definition. It must be followed by the function name and the parenthesized list of formal parameters. The statements that form the body of the function start at the next line, and must be indented.</p>"
      ]
    },
    {
      "cell_type": "code",
      "source": [
        "def operate(a, b):\n",
        "  print(str(a) + ' + ' + str(b) + ' = ' + str(a+b))\n",
        "  print(str(a) + ' - ' + str(b) + ' = ' + str(a-b))\n",
        "  print(str(a) + ' x ' + str(b) + ' = ' + str(a*b))\n",
        "  print(str(a) + ' / ' + str(b) + ' = ' + str(a/b))"
      ],
      "metadata": {
        "id": "YRU1pFyIKR5B"
      },
      "execution_count": null,
      "outputs": []
    },
    {
      "cell_type": "code",
      "source": [
        "operate(91,5)"
      ],
      "metadata": {
        "colab": {
          "base_uri": "https://localhost:8080/"
        },
        "id": "x-UAfujIK6-k",
        "outputId": "857c78fd-60dc-4d7a-e75a-ae5207f0003e"
      },
      "execution_count": null,
      "outputs": [
        {
          "output_type": "stream",
          "name": "stdout",
          "text": [
            "91 + 5 = 96\n",
            "91 - 5 = 86\n",
            "91 x 5 = 455\n",
            "91 / 5 = 18.2\n"
          ]
        }
      ]
    },
    {
      "cell_type": "code",
      "source": [
        "operate(5,2)"
      ],
      "metadata": {
        "colab": {
          "base_uri": "https://localhost:8080/"
        },
        "id": "6JQoaH0wuuWj",
        "outputId": "2fe084e2-05a8-48a4-dabe-5fe3f03b7664"
      },
      "execution_count": null,
      "outputs": [
        {
          "output_type": "stream",
          "name": "stdout",
          "text": [
            "5 + 2 = 7\n",
            "5 - 2 = 3\n",
            "5 x 2 = 10\n",
            "5 / 2 = 2.5\n"
          ]
        }
      ]
    },
    {
      "cell_type": "code",
      "execution_count": null,
      "metadata": {
        "id": "zZaBBUgb9OBd"
      },
      "outputs": [],
      "source": [
        "def fib(n):    # write Fibonacci series up to n\n",
        "    lst = [0,1]\n",
        "    a, b = 0, 1\n",
        "    while True:\n",
        "        #print(a, end=' ')\n",
        "        a, b = b, a+b\n",
        "        if b < n:\n",
        "          lst.append(b)\n",
        "        else:\n",
        "          break\n",
        "        #print()\n",
        "    return lst\n"
      ]
    },
    {
      "cell_type": "code",
      "execution_count": null,
      "metadata": {
        "colab": {
          "base_uri": "https://localhost:8080/"
        },
        "id": "aFCr3Pc99OBe",
        "outputId": "94503f95-a835-4f58-f50b-b800aab35afe"
      },
      "outputs": [
        {
          "output_type": "stream",
          "name": "stdout",
          "text": [
            "[0, 1, 1, 2, 3, 5, 8, 13, 21, 34, 55, 89, 144, 233, 377, 610, 987]\n"
          ]
        }
      ],
      "source": [
        "# Now call the function we just defined:\n",
        "r = fib(1000)\n",
        "print(r)"
      ]
    },
    {
      "cell_type": "code",
      "execution_count": null,
      "metadata": {
        "id": "_SueK7ww9OBe"
      },
      "outputs": [],
      "source": [
        "# define method\n",
        "def addnumbers(a, b): # add numbers and return result\n",
        "    # logic\n",
        "    c = a + b\n",
        "    return c"
      ]
    },
    {
      "cell_type": "code",
      "source": [
        "addnumbers([2],[33])"
      ],
      "metadata": {
        "colab": {
          "base_uri": "https://localhost:8080/"
        },
        "id": "8fRPogdbzLSI",
        "outputId": "8f360828-fdf7-456d-dc3e-01b79c65dbaa"
      },
      "execution_count": null,
      "outputs": [
        {
          "output_type": "execute_result",
          "data": {
            "text/plain": [
              "[2, 33]"
            ]
          },
          "metadata": {},
          "execution_count": 60
        }
      ]
    },
    {
      "cell_type": "code",
      "execution_count": null,
      "metadata": {
        "colab": {
          "base_uri": "https://localhost:8080/"
        },
        "id": "WX14lRM59OBe",
        "outputId": "0e182920-ae37-479a-f6e4-8f4bf62c6906"
      },
      "outputs": [
        {
          "output_type": "stream",
          "name": "stdout",
          "text": [
            "8ppp9\n"
          ]
        }
      ],
      "source": [
        "y = addnumbers('8ppp', '9') # use or call method\n",
        "print(y)"
      ]
    },
    {
      "cell_type": "code",
      "execution_count": null,
      "metadata": {
        "id": "rVpfHNMo9OBf",
        "outputId": "ac2ed6e1-0da8-4976-d84b-1b81f5336863",
        "colab": {
          "base_uri": "https://localhost:8080/"
        }
      },
      "outputs": [
        {
          "output_type": "execute_result",
          "data": {
            "text/plain": [
              "[33, 77, 66]"
            ]
          },
          "metadata": {},
          "execution_count": 62
        }
      ],
      "source": [
        "addnumbers([33,77], [66])"
      ]
    },
    {
      "cell_type": "code",
      "execution_count": null,
      "metadata": {
        "id": "S1xGUH_N9OBf"
      },
      "outputs": [],
      "source": [
        "# add list values\n",
        "def addValues(num):\n",
        "    sum = 0\n",
        "    for n in num:\n",
        "        sum = sum+ int(n)\n",
        "    return sum"
      ]
    },
    {
      "cell_type": "code",
      "source": [
        "print(addValues('1234'))"
      ],
      "metadata": {
        "colab": {
          "base_uri": "https://localhost:8080/"
        },
        "id": "I4W3uWLsrH-4",
        "outputId": "d34d7545-8d9b-4b6c-d9bb-947c0e14875e"
      },
      "execution_count": null,
      "outputs": [
        {
          "output_type": "stream",
          "name": "stdout",
          "text": [
            "10\n"
          ]
        }
      ]
    },
    {
      "cell_type": "code",
      "execution_count": null,
      "metadata": {
        "id": "CqJJSRvK9OBf",
        "colab": {
          "base_uri": "https://localhost:8080/"
        },
        "outputId": "ddb7ee4b-e42e-4418-b6b0-b1a854fe892b"
      },
      "outputs": [
        {
          "output_type": "execute_result",
          "data": {
            "text/plain": [
              "0"
            ]
          },
          "metadata": {},
          "execution_count": 70
        }
      ],
      "source": [
        "addValues([])"
      ]
    },
    {
      "cell_type": "code",
      "execution_count": null,
      "metadata": {
        "id": "egl16dJp9OBg",
        "colab": {
          "base_uri": "https://localhost:8080/"
        },
        "outputId": "38a7d3ec-dc68-49b3-ef11-d4f50bdc0c56"
      },
      "outputs": [
        {
          "output_type": "execute_result",
          "data": {
            "text/plain": [
              "28"
            ]
          },
          "metadata": {},
          "execution_count": 71
        }
      ],
      "source": [
        "v = [5, 4,12, 7]\n",
        "addValues(v)"
      ]
    },
    {
      "cell_type": "code",
      "source": [],
      "metadata": {
        "id": "xLgwZlvbrirQ"
      },
      "execution_count": null,
      "outputs": []
    },
    {
      "cell_type": "code",
      "execution_count": null,
      "metadata": {
        "id": "HKIYxiaK9OBg",
        "colab": {
          "base_uri": "https://localhost:8080/"
        },
        "outputId": "2bb1ad97-2a07-4fd6-e9cd-a8c88c4adb18"
      },
      "outputs": [
        {
          "output_type": "execute_result",
          "data": {
            "text/plain": [
              "84"
            ]
          },
          "metadata": {},
          "execution_count": 72
        }
      ],
      "source": [
        "v = [5, 4,12, 7, 5, 4,12, 7, 5, 4,12, 7]\n",
        "addValues(v)"
      ]
    },
    {
      "cell_type": "code",
      "execution_count": null,
      "metadata": {
        "id": "SksLGPeh9OBh"
      },
      "outputs": [],
      "source": [
        "# method/function\n",
        "def multiTable(n, r=10):\n",
        "    for i in range(1,r+1):\n",
        "        print(\"{}x{}={}\".format(n,i,n*i))"
      ]
    },
    {
      "cell_type": "code",
      "execution_count": null,
      "metadata": {
        "id": "5X6DqTib9OBh",
        "colab": {
          "base_uri": "https://localhost:8080/"
        },
        "outputId": "5d0a5232-aaa9-49c6-e30a-fb6433e5fe8f"
      },
      "outputs": [
        {
          "output_type": "stream",
          "name": "stdout",
          "text": [
            "8x1=8\n",
            "8x2=16\n",
            "8x3=24\n",
            "8x4=32\n",
            "8x5=40\n",
            "8x6=48\n",
            "8x7=56\n",
            "8x8=64\n",
            "8x9=72\n",
            "8x10=80\n"
          ]
        }
      ],
      "source": [
        "multiTable(8)"
      ]
    },
    {
      "cell_type": "code",
      "execution_count": null,
      "metadata": {
        "id": "gfyLgPF29OBh",
        "colab": {
          "base_uri": "https://localhost:8080/"
        },
        "outputId": "ce7ae5bf-ae4e-4d3f-e35b-be16c6913eda"
      },
      "outputs": [
        {
          "output_type": "stream",
          "name": "stdout",
          "text": [
            "15x1=15\n",
            "15x2=30\n",
            "15x3=45\n",
            "15x4=60\n",
            "15x5=75\n",
            "15x6=90\n",
            "15x7=105\n",
            "15x8=120\n",
            "15x9=135\n",
            "15x10=150\n"
          ]
        }
      ],
      "source": [
        "multiTable(15)"
      ]
    },
    {
      "cell_type": "markdown",
      "metadata": {
        "id": "ICNPFsDQ9OBh"
      },
      "source": [
        "<b>Exercise 3:</b> Define a <b>method/function</b> which will take two lists of numbers and returns a list (sum of two lists)\n",
        "<p>Example:<br>\n",
        "    Input: [3,4,5,1] and [6,7,2,8]<br>\n",
        "    output: [9,11,7,9]</p>\n"
      ]
    },
    {
      "cell_type": "code",
      "execution_count": null,
      "metadata": {
        "id": "5MPMcHnz9OBi",
        "colab": {
          "base_uri": "https://localhost:8080/"
        },
        "outputId": "e5697f7e-16bf-4908-ef25-a3f23acf67d1"
      },
      "outputs": [
        {
          "output_type": "stream",
          "name": "stdout",
          "text": [
            "Enter the number of elements for the list1: 3\n",
            "1\n",
            "2\n",
            "3\n",
            "Enter the number of elements for the list2: 3\n",
            "4\n",
            "5\n",
            "6\n",
            "[5, 7, 9]\n"
          ]
        }
      ],
      "source": [
        "# code here\n",
        "def sum_of_two_list(num1,num2):\n",
        "  if len(num1) != len(num2):\n",
        "    return \"You must have same length of list.\"\n",
        "  else:\n",
        "    sum = []\n",
        "    for i in range(len(num1)):\n",
        "      sum.append(num1[i] + num2[i])\n",
        "    return sum\n",
        "# input part\n",
        "n1=[]\n",
        "n2=[]\n",
        "n = int(input(\"Enter the number of elements for the list1: \"))\n",
        "for i in range(n):\n",
        "  n1.append(int(input()))\n",
        "nn = int(input(\"Enter the number of elements for the list2: \"))\n",
        "for i in range(nn):\n",
        "  n2.append(int(input()))\n",
        "# n1 = [1,2,3]\n",
        "# n2=[4,5,6]\n",
        "\n",
        "print(sum_of_two_list(n1,n2))"
      ]
    },
    {
      "cell_type": "markdown",
      "metadata": {
        "id": "DSjaC86G9OBi"
      },
      "source": [
        "<b> Exercise 4:</b> Write a <b>method</b> which will take the <b>full name</b> as input and return both the first name and last name.\n",
        "<p>Example:<br>\n",
        "    Input: Arafat Rahman Sunny<br>\n",
        "    Output: First name: Arafat, Last name: Sunny</p>"
      ]
    },
    {
      "cell_type": "code",
      "execution_count": null,
      "metadata": {
        "id": "HCpI48lj9OBi",
        "colab": {
          "base_uri": "https://localhost:8080/"
        },
        "outputId": "2e5ec349-df3d-406f-a2f6-ed3d49d1b081"
      },
      "outputs": [
        {
          "output_type": "stream",
          "name": "stdout",
          "text": [
            "Foysal Munsy\n",
            "('Foysal', 'Munsy')\n"
          ]
        }
      ],
      "source": [
        "# code here\n",
        "def first_last(name):\n",
        "  split = name.split()\n",
        "  first = split[0]\n",
        "  last = split[-1]\n",
        "  return(first , last)\n",
        "# input part\n",
        "a= input()\n",
        "print(first_last(a))\n",
        "\n"
      ]
    },
    {
      "cell_type": "markdown",
      "metadata": {
        "id": "rQ1Zq6Dm9OBj"
      },
      "source": [
        "# Output Formatting (Optional)\n",
        "Go to the [link](https://docs.python.org/3/tutorial/inputoutput.html#formatted-string-literals) and practice the codes below."
      ]
    },
    {
      "cell_type": "code",
      "execution_count": null,
      "metadata": {
        "id": "yFN0SVO29OBj"
      },
      "outputs": [],
      "source": [
        "# code here"
      ]
    }
  ],
  "metadata": {
    "kernelspec": {
      "display_name": "Python 3",
      "language": "python",
      "name": "python3"
    },
    "language_info": {
      "codemirror_mode": {
        "name": "ipython",
        "version": 3
      },
      "file_extension": ".py",
      "mimetype": "text/x-python",
      "name": "python",
      "nbconvert_exporter": "python",
      "pygments_lexer": "ipython3",
      "version": "3.8.5"
    },
    "colab": {
      "provenance": [],
      "include_colab_link": true
    }
  },
  "nbformat": 4,
  "nbformat_minor": 0
}