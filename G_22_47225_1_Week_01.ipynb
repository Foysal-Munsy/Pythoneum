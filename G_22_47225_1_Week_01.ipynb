{
  "cells": [
    {
      "cell_type": "markdown",
      "metadata": {
        "id": "tUakohw5RzmN"
      },
        "# About this notebook\n",
        "<p style=\"text-align: justify\"> Here, you will learn the basic coding and data structures including numbers, strings, list, dictionaries and more. Some codes already done for demonstration. Some other codes, you will do as excercises.</p>\n",
    },
    {
      "cell_type": "markdown",
      "source": [
        "# **INSTRUCTION**"
      ],
      "metadata": {
        "id": "7jKOIUPVzjYM"
      }
    },
    {
      "cell_type": "code",
      "source": [],
      "metadata": {
        "id": "9yfQP659uP-v"
      },
      "execution_count": null,
      "outputs": []
    },
    {
      "cell_type": "code",
      "execution_count": null,
      "metadata": {
        "id": "EgjVFy62RzmR",
        "colab": {
          "base_uri": "https://localhost:8080/"
        },
        "outputId": "718bf7e1-04fa-4186-a78c-e4704c728cc9"
      },
      "outputs": [
        {
          "output_type": "stream",
          "name": "stdout",
          "text": [
            "12\n"
          ]
        }
      ],
      "source": [
        "# basic numeric operations\n",
        "# 34 - 22\n",
        "print(34-12)"
      ]
    },
    {
      "cell_type": "code",
      "execution_count": null,
      "metadata": {
        "id": "F0FimSxMRzmS",
        "outputId": "1da649db-7d23-47a4-fd9a-e5e0328e6ed6",
        "colab": {
          "base_uri": "https://localhost:8080/"
        }
      },
      "outputs": [
        {
          "output_type": "stream",
          "name": "stdout",
          "text": [
            "1.0454545454545454\n"
          ]
        }
      ],
      "source": [
        "# classic division returns a float\n",
        "print(23/12)"
      ]
    },
    {
      "cell_type": "code",
      "execution_count": null,
      "metadata": {
        "id": "CjDuJ9zqRzmS",
        "outputId": "4cb264ae-0263-47c9-be08-abd329a5a986",
        "colab": {
          "base_uri": "https://localhost:8080/"
        }
      },
      "outputs": [
        {
          "output_type": "stream",
          "name": "stdout",
          "text": [
            "3\n"
          ]
        }
      ],
      "source": [
        "# floor division discards the fractional part\n",
        "print(23//7)"
      ]
    },
    {
      "cell_type": "code",
      "execution_count": null,
      "metadata": {
        "id": "q8eSw206RzmT",
        "outputId": "cb10fba5-eb87-492b-8b69-09f33ba13527",
        "colab": {
          "base_uri": "https://localhost:8080/"
        }
      },
      "outputs": [
        {
          "output_type": "stream",
          "name": "stdout",
          "text": [
            "59.04545454545455\n"
          ]
        }
      ],
      "source": [
        "# assigin value to variable for later use\n",
        "a = 1299\n",
        "b= 22\n",
        "print(a/b)\n",
        "# print()"
      ]
    },
    {
      "cell_type": "code",
      "execution_count": null,
      "metadata": {
        "id": "NiPvZZDiRzmT",
        "outputId": "19ba1007-d942-4741-d36c-7f0e64cc7d05",
        "colab": {
          "base_uri": "https://localhost:8080/"
        }
      },
      "outputs": [
        {
          "output_type": "stream",
          "name": "stdout",
          "text": [
            "891\n"
          ]
        }
      ],
      "source": [
        "# use the variable a for further operations\n",
        "a=99\n",
        "b = a*9\n",
        "print(b)"
      ]
    },
    {
      "cell_type": "code",
      "execution_count": null,
      "metadata": {
        "id": "DxWMtt3-RzmU",
        "colab": {
          "base_uri": "https://localhost:8080/"
        },
        "outputId": "f73ea398-3653-4498-ab43-1c2cf6166ee5"
      },
      "outputs": [
        {
          "output_type": "stream",
          "name": "stdout",
          "text": [
            "2 ** 10 = 1024\n"
          ]
        }
      ],
      "source": [
        "a=2 ** 10\n",
        "print(\"2 ** 10 =\",a)\n",
        "# print(a)"
      ]
    },
    {
      "cell_type": "markdown",
      "metadata": {
        "id": "dh1UZFy3RzmU"
      },
      "source": [
        "<b>Exercise 1:</b> Assign values to some variables and perform different operations. Also print the results."
      ]
    },
    {
      "cell_type": "code",
      "execution_count": null,
      "metadata": {
        "id": "M7JxL3K4RzmV",
        "colab": {
          "base_uri": "https://localhost:8080/"
        },
        "outputId": "32b9eb27-b7bd-4854-cd97-737dcdfb783c"
      },
      "outputs": [
        {
          "output_type": "stream",
          "name": "stdout",
          "text": [
            "2\n"
          ]
        }
      ],
      "source": [
        "# code here\n",
        "a=10\n",
        "b=5\n",
        "print(a//b)"
      ]
    },
    {
      "cell_type": "markdown",
      "metadata": {
        "id": "fdbNBNHLRzmV"
      },
      "source": [
        "**bold text**# Import Module\n",
        "<p style=\"text-align: justify\"> Python code in one module gains access to the code in another module by the process of importing it. The import statement is the most common way of invoking the import machinery.</p>\n",
        "\n",
        "<p style=\"text-align: justify\">Python’s standard library is very extensive, offering a wide range of facilities. The library contains built-in modules (written in C) that provide access to system functionality such as file I/O that would otherwise be inaccessible to Python programmers, as well as modules written in Python that provide standardized solutions for many problems that occur in everyday programming. Some of these modules are explicitly designed to encourage and enhance the portability of Python programs by abstracting away platform-specifics into platform-neutral APIs.</p>\n",
        "\n",
        "<b> Example:</b> Python has a built-in module that you can use for mathematical tasks. The math module has a set of methods and constants. The detail documentation can be found [here](https://docs.python.org/3/library/math.html)."
      ]
    },
    {
      "cell_type": "code",
      "execution_count": null,
      "metadata": {
        "id": "W_qIawhDRzmV",
        "outputId": "544a9cb2-ef0f-4f30-8805-ffcabb968eed",
        "colab": {
          "base_uri": "https://localhost:8080/"
        }
      },
      "outputs": [
        {
          "output_type": "stream",
          "name": "stdout",
          "text": [
            "2.718281828459045\n",
            "6.283185307179586\n",
            "3.141592653589793\n"
          ]
        }
      ],
      "source": [
        "# importing the math module\n",
        "import math\n",
        "# accessing the constant π from math\n",
        "print(math.e)\n",
        "print(math.tau)\n",
        "print(math.pi)"
      ]
    },
    {
      "cell_type": "code",
      "execution_count": null,
      "metadata": {
        "id": "Q8HYTDiKRzmW",
        "outputId": "58e6496d-cea5-4166-ac9e-9e0b64b6cf7c",
        "colab": {
          "base_uri": "https://localhost:8080/"
        }
      },
      "outputs": [
        {
          "output_type": "stream",
          "name": "stdout",
          "text": [
            "8.12403840463596\n",
            "100000.0\n"
          ]
        }
      ],
      "source": [
        "# using the method sqrt from math\n",
        "print(math.sqrt(66))\n",
        "x=10\n",
        "y=5\n",
        "print(math.pow(x,y))"
      ]
    },
    {
      "cell_type": "code",
      "source": [
        "math.factorial(5)\n",
        "math.sin(120)"
      ],
      "metadata": {
        "colab": {
          "base_uri": "https://localhost:8080/"
        },
        "id": "ZbVf51impuQM",
        "outputId": "a6a34b0e-21b8-45dd-89df-cb0ef351b966"
      },
      "execution_count": null,
      "outputs": [
        {
          "output_type": "execute_result",
          "data": {
            "text/plain": [
              "0.5806111842123143"
            ]
          },
          "metadata": {},
          "execution_count": 36
        }
      ]
    },
    {
      "cell_type": "code",
      "source": [
        "print(math.prod([2,3,5,7]))\n",
        "print(sum([2,3,5,7]))\n",
        "print(math.fsum([3,3,3]))"
      ],
      "metadata": {
        "colab": {
          "base_uri": "https://localhost:8080/"
        },
        "id": "JLWVp6Opp_R7",
        "outputId": "d179b746-7179-49d8-f027-5ebd8e1929eb"
      },
      "execution_count": null,
      "outputs": [
        {
          "output_type": "stream",
          "name": "stdout",
          "text": [
            "210\n",
            "17\n",
            "9.0\n"
          ]
        }
      ]
    },
    {
      "cell_type": "markdown",
      "metadata": {
        "id": "SKFSp-jyRzmW"
      },
      "source": [
        "<b>Remember:</b> A cell always outputs the value of last variable. If you want to show other values use print. See the below cell for an example."
      ]
    },
    {
      "cell_type": "code",
      "execution_count": null,
      "metadata": {
        "id": "LplYC6VURzmW",
        "outputId": "e54ab5b9-409b-4a66-84da-e3be6de90782",
        "colab": {
          "base_uri": "https://localhost:8080/"
        }
      },
      "outputs": [
        {
          "output_type": "stream",
          "name": "stdout",
          "text": [
            "3\n",
            "4\n",
            "0.5\n",
            "0\n"
          ]
        }
      ],
      "source": [
        "\n",
        "a=1\n",
        "b=2\n",
        "print(1+2)\n",
        "print(a*4)\n",
        "print(a/b)\n",
        "print(a//b)"
      ]
    },
    {
      "cell_type": "markdown",
      "metadata": {
        "id": "h5jaMCJgRzmX"
      },
      "source": [
        "<b>Exercise 2:</b> Import a module of your choice (other than math) and show some operations.<br>\n",
        "You can find one from all python module list [Click here](https://docs.python.org/3/py-modindex.html)."
      ]
    },
    {
      "cell_type": "code",
      "execution_count": null,
      "metadata": {
        "id": "qxLjqbuIRzmX",
        "colab": {
          "base_uri": "https://localhost:8080/"
        },
        "outputId": "47cfcfb5-a538-4331-8a93-6914bea7004c"
      },
      "outputs": [
        {
          "output_type": "stream",
          "name": "stdout",
          "text": [
            "date & time that i store:  2024-01-29 00:00:00\n",
            "Current date & time:  2024-01-29 04:37:51.508315\n"
          ]
        }
      ],
      "source": [
        "# code here\n",
        "import datetime\n",
        "store=datetime.datetime(2024,1,28)\n",
        "now=datetime.datetime.now()\n",
        "print(\"date & time that i store: \",s)\n",
        "print(\"Current date & time: \",now)"
      ]
    },
    {
      "cell_type": "markdown",
      "metadata": {
        "id": "mzYaXui8RzmX"
      },
      "source": [
        "# Object types\n",
        "The basic object types are Numbers, Strings, Lists, Dictionaries, Tuples, Files and Other types (Sets, types, None, Booleans etc.)"
      ]
    },
    {
      "cell_type": "code",
      "source": [
        "a=10.5\n",
        "print(a)"
      ],
      "metadata": {
        "id": "m9Ph-hDmteoA",
        "colab": {
          "base_uri": "https://localhost:8080/"
        },
        "outputId": "1fa85ad7-b23e-4650-d776-14afd4a62df7"
      },
      "execution_count": null,
      "outputs": [
        {
          "output_type": "stream",
          "name": "stdout",
          "text": [
            "10.5\n"
          ]
        }
      ]
    },
    {
      "cell_type": "code",
      "execution_count": null,
      "metadata": {
        "id": "2RVFS2BPRzmX",
        "outputId": "b5a22e89-40a9-45af-9530-9cbb51884196",
        "colab": {
          "base_uri": "https://localhost:8080/"
        }
      },
      "outputs": [
        {
          "output_type": "stream",
          "name": "stdout",
          "text": [
            "<class 'int'>\n",
            "<class 'float'>\n"
          ]
        }
      ],
      "source": [
        "# Checking the type of an object\n",
        "a = int(a)\n",
        "b= float(b)\n",
        "print(type(a))\n",
        "print(type(b))"
      ]
    },
    {
      "cell_type": "code",
      "execution_count": null,
      "metadata": {
        "id": "AjtCCy6zRzmY",
        "outputId": "ba53ebcd-1454-46d1-c786-c2eb87e94f90",
        "colab": {
          "base_uri": "https://localhost:8080/"
        }
      },
      "outputs": [
        {
          "output_type": "stream",
          "name": "stdout",
          "text": [
            "<class 'int'>\n",
            "<class 'float'>\n"
          ]
        }
      ],
      "source": [
        "c = 123\n",
        "print(type(c))\n",
        "c = float(c)\n",
        "print(type(c))"
      ]
    },
    {
      "cell_type": "code",
      "execution_count": null,
      "metadata": {
        "id": "VeL6GwnsRzmY",
        "outputId": "6f663010-315b-4d2d-c4fe-da55798b1d2c",
        "colab": {
          "base_uri": "https://localhost:8080/"
        }
      },
      "outputs": [
        {
          "output_type": "stream",
          "name": "stdout",
          "text": [
            "<class 'str'>\n",
            "<class 'str'>\n",
            "1\n"
          ]
        }
      ],
      "source": [
        "d = '123'\n",
        "print(type(d))\n",
        "d = \"123\"\n",
        "print(type(d))\n",
        "print(d[0])"
      ]
    },
    {
      "cell_type": "code",
      "execution_count": null,
      "metadata": {
        "id": "9ok8T1AlRzmY",
        "outputId": "defe2c21-c96e-4d51-9604-2e84971ac5e7",
        "colab": {
          "base_uri": "https://localhost:8080/"
        }
      },
      "outputs": [
        {
          "output_type": "stream",
          "name": "stdout",
          "text": [
            "<class 'float'>\n",
            "<class 'str'>\n",
            "5\n"
          ]
        }
      ],
      "source": [
        "c = 45.5\n",
        "print(type(c))\n",
        "c = str(c)\n",
        "print(type(c))\n",
        "print(c[3])"
      ]
    },
    {
      "cell_type": "code",
      "execution_count": null,
      "metadata": {
        "id": "oqxDaWmCRzmY",
        "outputId": "23770709-d008-4bb7-8e51-e5cc2b71ee13",
        "colab": {
          "base_uri": "https://localhost:8080/"
        }
      },
      "outputs": [
        {
          "output_type": "stream",
          "name": "stdout",
          "text": [
            "<class 'float'>\n"
          ]
        }
      ],
      "source": [
        "a = 7\n",
        "d = 99.0+a\n",
        "print(type(d))"
      ]
    },
    {
      "cell_type": "markdown",
      "metadata": {
        "id": "_3kFNbooRzmZ"
      },
      "source": [
        "# String"
      ]
    },
    {
      "cell_type": "code",
      "execution_count": null,
      "metadata": {
        "id": "4RDuLVuHRzmZ",
        "colab": {
          "base_uri": "https://localhost:8080/"
        },
        "outputId": "f712173b-a292-4b91-917c-ebfc864cb264"
      },
      "outputs": [
        {
          "output_type": "stream",
          "name": "stdout",
          "text": [
            "I love Bangladesh\n"
          ]
        }
      ],
      "source": [
        "# assign value to a variable. The value can be qouted using '' or \"\"\n",
        "s = 'I love Bangladesh'\n",
        "print(s)"
      ]
    },
    {
      "cell_type": "code",
      "execution_count": null,
      "metadata": {
        "id": "YgdInV-bRzmZ",
        "outputId": "486295b0-7a25-4a94-8cd8-a92327923ba5",
        "colab": {
          "base_uri": "https://localhost:8080/"
        }
      },
      "outputs": [
        {
          "output_type": "stream",
          "name": "stdout",
          "text": [
            "o\n",
            "n\n"
          ]
        }
      ],
      "source": [
        "# index\n",
        "print(s[3])\n",
        "print(s[9])"
      ]
    },
    {
      "cell_type": "code",
      "execution_count": null,
      "metadata": {
        "id": "SApsog7_RzmZ",
        "outputId": "5333c661-fff7-455c-c3d5-2491f394c7e5",
        "colab": {
          "base_uri": "https://localhost:8080/"
        }
      },
      "outputs": [
        {
          "output_type": "stream",
          "name": "stdout",
          "text": [
            "f\n",
            "d\n",
            "s\n",
            "a\n"
          ]
        }
      ],
      "source": [
        "# negative index\n",
        "s = 'asdf'\n",
        "print(s[-1])\n",
        "print(s[-2])\n",
        "print(s[-3])\n",
        "print(s[-4])"
      ]
    },
    {
      "cell_type": "markdown",
      "metadata": {
        "id": "0eT9wh_LRzma"
      },
      "source": [
        "When to use ' ' or \" \" ?"
      ]
    },
    {
      "cell_type": "markdown",
      "metadata": {
        "id": "WoJmaAijRzma"
      },
      "source": [
        "string operations with * and +"
      ]
    },
    {
      "cell_type": "code",
      "execution_count": null,
      "metadata": {
        "id": "BfxzLD9HRzma",
        "outputId": "f367b77f-e586-4cb3-daad-982793c2dde2",
        "colab": {
          "base_uri": "https://localhost:8080/"
        }
      },
      "outputs": [
        {
          "output_type": "stream",
          "name": "stdout",
          "text": [
            "Foysal Foysal Foysal Foysal Foysal Foysal Foysal Foysal \n",
            "\n",
            "\n",
            "Lets try 10 times\n",
            "Lets try 10 times\n",
            "Lets try 10 times\n",
            "Lets try 10 times\n",
            "Lets try 10 times\n",
            "Lets try 10 times\n",
            "Lets try 10 times\n",
            "Lets try 10 times\n",
            "Lets try 10 times\n",
            "Lets try 10 times\n",
            "\n"
          ]
        }
      ],
      "source": [
        "print('Foysal ' * 8)\n",
        "print('\\n')\n",
        "print(\"Lets try 10 times\\n\"*10)"
      ]
    },
    {
      "cell_type": "code",
      "execution_count": null,
      "metadata": {
        "id": "BNSbM0HNRzma",
        "outputId": "e91bc031-f324-4dd9-ad83-0d5bb123dfd2",
        "colab": {
          "base_uri": "https://localhost:8080/",
          "height": 34
        }
      },
      "outputs": [
        {
          "output_type": "execute_result",
          "data": {
            "text/plain": [
              "'HeyHeyHey'"
            ],
            "application/vnd.google.colaboratory.intrinsic+json": {
              "type": "string"
            }
          },
          "metadata": {},
          "execution_count": 25
        }
      ],
      "source": [
        "greet='Hey'\n",
        "greet * 3"
      ]
    },
    {
      "cell_type": "code",
      "execution_count": null,
      "metadata": {
        "id": "v6WtfbxURzma",
        "outputId": "e990aea5-ff3c-48e0-b9f8-7f36b258e7f3",
        "colab": {
          "base_uri": "https://localhost:8080/"
        }
      },
      "outputs": [
        {
          "output_type": "stream",
          "name": "stdout",
          "text": [
            "Foysal Munsy\n"
          ]
        }
      ],
      "source": [
        "name = 'Foysal ' + 'Munsy'\n",
        "print(name)"
      ]
    },
    {
      "cell_type": "code",
      "execution_count": null,
      "metadata": {
        "id": "itSLVn7SRzmb",
        "outputId": "65e08619-6dd7-4b2e-8427-9a14baa8c49f",
        "colab": {
          "base_uri": "https://localhost:8080/",
          "height": 34
        }
      },
      "outputs": [
        {
          "output_type": "execute_result",
          "data": {
            "text/plain": [
              "'Hey,Foysal Munsy have you done your work?'"
            ],
            "application/vnd.google.colaboratory.intrinsic+json": {
              "type": "string"
            }
          },
          "metadata": {},
          "execution_count": 26
        }
      ],
      "source": [
        "greet + ',' + name + ' have you done your work?'"
      ]
    },
    {
      "cell_type": "code",
      "execution_count": null,
      "metadata": {
        "id": "AaNhu8QMRzmb",
        "outputId": "5ffa3f88-a87c-4dbd-8493-c852ae2d2eab",
        "colab": {
          "base_uri": "https://localhost:8080/"
        }
      },
      "outputs": [
        {
          "output_type": "stream",
          "name": "stdout",
          "text": [
            "Foysal\n",
            "al Munsy\n",
            "Foys\n",
            "nsy\n",
            "Fs\n",
            "ysnuM lasyoF\n",
            "e\n"
          ]
        }
      ],
      "source": [
        "# slicing\n",
        "name = 'Foysal Munsy'\n",
        "print(name[0:6])\n",
        "print(name[4:])\n",
        "print(name[:4])\n",
        "print(name[-3:])\n",
        "print(name[0: :10])\n",
        "print(name[-1: :-1])\n",
        "name = \"Hello, World!\"\n",
        "print(name[1:5:10])\n"
      ]
    },
    {
      "cell_type": "code",
      "execution_count": null,
      "metadata": {
        "id": "k9ICF4NARzmb",
        "outputId": "630ff051-b018-46ae-fe8b-4162cb556a9d",
        "colab": {
          "base_uri": "https://localhost:8080/",
          "height": 34
        }
      },
      "outputs": [
        {
          "output_type": "execute_result",
          "data": {
            "text/plain": [
              "'al Mun'"
            ],
            "application/vnd.google.colaboratory.intrinsic+json": {
              "type": "string"
            }
          },
          "metadata": {},
          "execution_count": 58
        }
      ],
      "source": [
        "name = 'Foysal Munsy'\n",
        "name[-8:-2]"
      ]
    },
    {
      "cell_type": "code",
      "execution_count": null,
      "metadata": {
        "id": "J6Q9RXwSRzmb"
      },
      "outputs": [],
      "source": [
        "#dir(name)"
      ]
    },
    {
      "cell_type": "markdown",
      "metadata": {
        "id": "TGAKdDQtRzmb"
      },
      "source": [
        "Some examples of string methods"
      ]
    },
    {
      "cell_type": "code",
      "execution_count": null,
      "metadata": {
        "id": "63sdbV7gRzmb",
        "outputId": "60cac450-896c-4b80-fea5-ad6d02560f20",
        "colab": {
          "base_uri": "https://localhost:8080/"
        }
      },
      "outputs": [
        {
          "output_type": "execute_result",
          "data": {
            "text/plain": [
              "2"
            ]
          },
          "metadata": {},
          "execution_count": 60
        }
      ],
      "source": [
        "name = 'Foysal Munsy'\n",
        "sub = 'y'\n",
        "name.count(sub)"
      ]
    },
    {
      "cell_type": "code",
      "source": [
        "print(help(name.count))\n",
        "#this help function generates a text on console\n"
      ],
      "metadata": {
        "colab": {
          "base_uri": "https://localhost:8080/"
        },
        "id": "rGRSEOhfpNZj",
        "outputId": "d8b6337e-6da1-4e75-d320-fc65c665aa16"
      },
      "execution_count": null,
      "outputs": [
        {
          "output_type": "stream",
          "name": "stdout",
          "text": [
            "Help on built-in function count:\n",
            "\n",
            "count(...) method of builtins.str instance\n",
            "    S.count(sub[, start[, end]]) -> int\n",
            "    \n",
            "    Return the number of non-overlapping occurrences of substring sub in\n",
            "    string S[start:end].  Optional arguments start and end are\n",
            "    interpreted as in slice notation.\n",
            "\n",
            "None\n"
          ]
        }
      ]
    },
    {
      "cell_type": "code",
      "execution_count": null,
      "metadata": {
        "id": "WFTSySe3Rzmc",
        "outputId": "343da6a9-646c-4629-8d01-b6d2ae380171",
        "colab": {
          "base_uri": "https://localhost:8080/"
        }
      },
      "outputs": [
        {
          "output_type": "stream",
          "name": "stdout",
          "text": [
            "Munsy\n"
          ]
        }
      ],
      "source": [
        "print(name.split()[-1])"
      ]
    },
    {
      "cell_type": "code",
      "execution_count": null,
      "metadata": {
        "id": "sc6pVggQRzmc",
        "outputId": "0ad513b2-1315-4ec1-8521-81c3463e8ebd",
        "colab": {
          "base_uri": "https://localhost:8080/"
        }
      },
      "outputs": [
        {
          "output_type": "stream",
          "name": "stdout",
          "text": [
            "False\n",
            "False\n",
            "True\n",
            "False\n",
            "False\n",
            "True\n"
          ]
        }
      ],
      "source": [
        "name = \"Hello, World!\"\n",
        "print(name.islower())  #False\n",
        "print(name.isupper())  #False\n",
        "\n",
        "name = \"hello, world!\"\n",
        "print(name.islower())  #True\n",
        "print(name.isupper())  #False\n",
        "\n",
        "name = \"HELLO, WORLD!\"\n",
        "print(name.islower())  #False\n",
        "print(name.isupper())  #True\n"
      ]
    },
    {
      "cell_type": "code",
      "execution_count": null,
      "metadata": {
        "id": "SLicn7tNRzmc",
        "outputId": "a88f3014-d573-4d3b-fd32-c3ec5e4f5eaf",
        "colab": {
          "base_uri": "https://localhost:8080/"
        }
      },
      "outputs": [
        {
          "output_type": "stream",
          "name": "stdout",
          "text": [
            "['I am right', 'He is fine', 'This is okay']\n",
            "\n",
            "\n",
            "I am right\n",
            "He is fine\n",
            "This is okay\n"
          ]
        }
      ],
      "source": [
        "mystring = 'I am right\\nHe is fine\\nThis is okay'\n",
        "print(mystring.splitlines())\n",
        "print('\\n')\n",
        "print(mystring)"
      ]
    },
    {
      "cell_type": "code",
      "execution_count": null,
      "metadata": {
        "id": "lZa1oYLBRzmc",
        "outputId": "36b891f8-d679-4ace-d95c-6f6c4dbee0ed",
        "colab": {
          "base_uri": "https://localhost:8080/"
        }
      },
      "outputs": [
        {
          "output_type": "execute_result",
          "data": {
            "text/plain": [
              "['I', 'am', 'right\\nHe', 'is', 'fine\\nThis', 'is', 'okay']"
            ]
          },
          "metadata": {},
          "execution_count": 75
        }
      ],
      "source": [
        "mystring ='I am right\\nHe is fine\\nThis is okay'\n",
        "mystring.split(' ')"
      ]
    },
    {
      "cell_type": "code",
      "execution_count": null,
      "metadata": {
        "id": "ykc0YfK6Rzmc",
        "outputId": "ff3a062a-2397-48f3-d262-6e57f6893014",
        "colab": {
          "base_uri": "https://localhost:8080/",
          "height": 34
        }
      },
      "outputs": [
        {
          "output_type": "execute_result",
          "data": {
            "text/plain": [
              "'first ?? second ?? third ?? fourth '"
            ],
            "application/vnd.google.colaboratory.intrinsic+json": {
              "type": "string"
            }
          },
          "metadata": {},
          "execution_count": 77
        }
      ],
      "source": [
        "separator = '?? '\n",
        "mystrings = ['first ', 'second ', 'third ', 'fourth ']\n",
        "separator.join(mystrings)"
      ]
    },
    {
      "cell_type": "code",
      "execution_count": null,
      "metadata": {
        "id": "6HTmr471Rzmc"
      },
      "outputs": [],
      "source": [
        "#help(mystring.count)"
      ]
    },
    {
      "cell_type": "code",
      "execution_count": null,
      "metadata": {
        "id": "wbIi_KpeRzmc",
        "outputId": "80f30d09-390d-4d00-c1a9-1a94f6193680",
        "colab": {
          "base_uri": "https://localhost:8080/"
        }
      },
      "outputs": [
        {
          "output_type": "execute_result",
          "data": {
            "text/plain": [
              "13"
            ]
          },
          "metadata": {},
          "execution_count": 78
        }
      ],
      "source": [
        "print(len(name))"
      ]
    },
    {
      "cell_type": "code",
      "source": [
        "# check which functions you can use with variable 'name'\n",
        "dir(name)"
      ],
      "metadata": {
        "colab": {
          "base_uri": "https://localhost:8080/"
        },
        "id": "L5ZJ-zcJ872r",
        "outputId": "a49babbf-2b73-4e47-fa35-574cfcc92d3b"
      },
      "execution_count": null,
      "outputs": [
        {
          "output_type": "execute_result",
          "data": {
            "text/plain": [
              "['__add__',\n",
              " '__class__',\n",
              " '__contains__',\n",
              " '__delattr__',\n",
              " '__dir__',\n",
              " '__doc__',\n",
              " '__eq__',\n",
              " '__format__',\n",
              " '__ge__',\n",
              " '__getattribute__',\n",
              " '__getitem__',\n",
              " '__getnewargs__',\n",
              " '__gt__',\n",
              " '__hash__',\n",
              " '__init__',\n",
              " '__init_subclass__',\n",
              " '__iter__',\n",
              " '__le__',\n",
              " '__len__',\n",
              " '__lt__',\n",
              " '__mod__',\n",
              " '__mul__',\n",
              " '__ne__',\n",
              " '__new__',\n",
              " '__reduce__',\n",
              " '__reduce_ex__',\n",
              " '__repr__',\n",
              " '__rmod__',\n",
              " '__rmul__',\n",
              " '__setattr__',\n",
              " '__sizeof__',\n",
              " '__str__',\n",
              " '__subclasshook__',\n",
              " 'capitalize',\n",
              " 'casefold',\n",
              " 'center',\n",
              " 'count',\n",
              " 'encode',\n",
              " 'endswith',\n",
              " 'expandtabs',\n",
              " 'find',\n",
              " 'format',\n",
              " 'format_map',\n",
              " 'index',\n",
              " 'isalnum',\n",
              " 'isalpha',\n",
              " 'isascii',\n",
              " 'isdecimal',\n",
              " 'isdigit',\n",
              " 'isidentifier',\n",
              " 'islower',\n",
              " 'isnumeric',\n",
              " 'isprintable',\n",
              " 'isspace',\n",
              " 'istitle',\n",
              " 'isupper',\n",
              " 'join',\n",
              " 'ljust',\n",
              " 'lower',\n",
              " 'lstrip',\n",
              " 'maketrans',\n",
              " 'partition',\n",
              " 'removeprefix',\n",
              " 'removesuffix',\n",
              " 'replace',\n",
              " 'rfind',\n",
              " 'rindex',\n",
              " 'rjust',\n",
              " 'rpartition',\n",
              " 'rsplit',\n",
              " 'rstrip',\n",
              " 'split',\n",
              " 'splitlines',\n",
              " 'startswith',\n",
              " 'strip',\n",
              " 'swapcase',\n",
              " 'title',\n",
              " 'translate',\n",
              " 'upper',\n",
              " 'zfill']"
            ]
          },
          "metadata": {},
          "execution_count": 79
        }
      ]
    },
    {
      "cell_type": "code",
      "source": [
        "help(name.split)"
      ],
      "metadata": {
        "colab": {
          "base_uri": "https://localhost:8080/"
        },
        "id": "LB96x9cM9Z9_",
        "outputId": "50b79dd6-0798-4cce-f172-050b512480de"
      },
      "execution_count": null,
      "outputs": [
        {
          "output_type": "stream",
          "name": "stdout",
          "text": [
            "Help on built-in function split:\n",
            "\n",
            "split(sep=None, maxsplit=-1) method of builtins.str instance\n",
            "    Return a list of the substrings in the string, using sep as the separator string.\n",
            "    \n",
            "      sep\n",
            "        The separator used to split the string.\n",
            "    \n",
            "        When set to None (the default value), will split on any whitespace\n",
            "        character (including \\\\n \\\\r \\\\t \\\\f and spaces) and will discard\n",
            "        empty strings from the result.\n",
            "      maxsplit\n",
            "        Maximum number of splits (starting from the left).\n",
            "        -1 (the default value) means no limit.\n",
            "    \n",
            "    Note, str.split() is mainly useful for data that has been intentionally\n",
            "    delimited.  With natural text that includes punctuation, consider using\n",
            "    the regular expression module.\n",
            "\n"
          ]
        }
      ]
    },
    {
      "cell_type": "markdown",
      "metadata": {
        "id": "tmPN3EFcRzmd"
      },
      "source": [
        "<b>Exercise 3:</b> Demonstrate some string operations. Also, show uses of some string methods."
      ]
    },
    {
      "cell_type": "code",
      "execution_count": null,
      "metadata": {
        "id": "aHc4MuaTRzmd",
        "colab": {
          "base_uri": "https://localhost:8080/"
        },
        "outputId": "ec16f26a-8e71-42be-b376-d1be56a6db7e"
      },
      "outputs": [
        {
          "output_type": "stream",
          "name": "stdout",
          "text": [
            "HelloHelloHello\n",
            "Foysal Munsy\n",
            "Hello\n",
            "5\n",
            "12\n",
            "hello HELLO Hello\n"
          ]
        }
      ],
      "source": [
        "# Code here\n",
        "greet = 'Hello'\n",
        "name = 'Foysal Munsy'\n",
        "rep = greet * 3\n",
        "print(rep)\n",
        "print(name)\n",
        "print(greet[0:5])\n",
        "length1 = len(greet)\n",
        "length2 = len(name)\n",
        "print(length1)\n",
        "print(length2)\n",
        "low = greet.lower()\n",
        "up = greet.upper()\n",
        "title = greet.title()\n",
        "print(low,up,title)"
      ]
    },
    {
      "cell_type": "markdown",
      "metadata": {
        "id": "6gr5VKcARzmd"
      },
      "source": [
        "# List\n",
        "<p style=\"text-align: justify\">Python knows a number of compound data types, used to group together other values. The most versatile is the list, which can be written as a list of comma-separated values (items) between square brackets. Lists might contain items of different types, but usually the items all have the same type.</p>"
      ]
    },
    {
      "cell_type": "code",
      "execution_count": null,
      "metadata": {
        "id": "1Upn_AwwRzmd",
        "outputId": "2a25df70-cf85-4d22-d5c6-d5b36932f794",
        "colab": {
          "base_uri": "https://localhost:8080/"
        }
      },
      "outputs": [
        {
          "output_type": "stream",
          "name": "stdout",
          "text": [
            "[1, 4, 9, 16, 25]\n",
            "['Foysal', 'Nahid', 'Arif', 'Zahid', 'Arafat']\n"
          ]
        }
      ],
      "source": [
        "num = [1, 4, 9, 16, 25]\n",
        "print(num)\n",
        "name = ['Foysal','Nahid','Arif','Zahid','Arafat']\n",
        "print(name)"
      ]
    },
    {
      "cell_type": "code",
      "execution_count": null,
      "metadata": {
        "id": "MSN71x4NRzmd",
        "colab": {
          "base_uri": "https://localhost:8080/"
        },
        "outputId": "e2abaf6a-6059-405f-87bc-9afcb91810d4"
      },
      "outputs": [
        {
          "output_type": "stream",
          "name": "stdout",
          "text": [
            "[10, 21, 'Manager', ['Manager', 89000], 4.5, 'Dhaka']\n"
          ]
        }
      ],
      "source": [
        "data = [21, 'Manager', ['Manager', 89000] ,4.50, 'Dhaka']\n",
        "#list is a collection which is ordered and changeable\n",
        "#They can contain any type of objects, like numbers, strings, and even other lists\n",
        "\"\"\"\n",
        "['Manager', 89000] its a list of list\n",
        "21 int , 'Manager' string, 4.50 float\n",
        "\"\"\"\n",
        "data.insert(0,10)\n",
        "print(data)"
      ]
    },
    {
      "cell_type": "markdown",
      "metadata": {
        "id": "EAZkybb9Rzmd"
      },
      "source": [
        "Like strings (and all other built-in sequence types), lists can be indexed and sliced:"
      ]
    },
    {
      "cell_type": "code",
      "execution_count": null,
      "metadata": {
        "id": "mroJxa8xRzmd",
        "outputId": "4ac60717-a986-40b6-97ee-bbeee9bab985",
        "colab": {
          "base_uri": "https://localhost:8080/",
          "height": 34
        }
      },
      "outputs": [
        {
          "output_type": "execute_result",
          "data": {
            "text/plain": [
              "'Manager'"
            ],
            "application/vnd.google.colaboratory.intrinsic+json": {
              "type": "string"
            }
          },
          "metadata": {},
          "execution_count": 99
        }
      ],
      "source": [
        "data[-3][0]"
      ]
    },
    {
      "cell_type": "code",
      "execution_count": null,
      "metadata": {
        "id": "9hZ2VcSURzmd",
        "outputId": "ff7577b9-f9e8-4573-c0bb-1b1a99aace23",
        "colab": {
          "base_uri": "https://localhost:8080/",
          "height": 34
        }
      },
      "outputs": [
        {
          "output_type": "execute_result",
          "data": {
            "text/plain": [
              "'Dhaka'"
            ],
            "application/vnd.google.colaboratory.intrinsic+json": {
              "type": "string"
            }
          },
          "metadata": {},
          "execution_count": 101
        }
      ],
      "source": [
        "data[-1]"
      ]
    },
    {
      "cell_type": "code",
      "execution_count": null,
      "metadata": {
        "id": "7OTvEEpmRzme",
        "outputId": "40f9ba10-e8da-4997-a4ca-75902815093a",
        "colab": {
          "base_uri": "https://localhost:8080/"
        }
      },
      "outputs": [
        {
          "output_type": "execute_result",
          "data": {
            "text/plain": [
              "[10, 21, 'Manager']"
            ]
          },
          "metadata": {},
          "execution_count": 100
        }
      ],
      "source": [
        "data[0:3]"
      ]
    },
    {
      "cell_type": "code",
      "execution_count": null,
      "metadata": {
        "id": "CNJjqWtzRzme",
        "outputId": "38879932-76e6-4c47-f89b-30d809a74472",
        "colab": {
          "base_uri": "https://localhost:8080/"
        }
      },
      "outputs": [
        {
          "output_type": "execute_result",
          "data": {
            "text/plain": [
              "21"
            ]
          },
          "metadata": {},
          "execution_count": 102
        }
      ],
      "source": [
        "data[1]"
      ]
    },
    {
      "cell_type": "code",
      "execution_count": null,
      "metadata": {
        "id": "DyOJ1nzPRzme",
        "outputId": "1117549b-853d-49c5-ec84-ad9ab65808f9",
        "colab": {
          "base_uri": "https://localhost:8080/",
          "height": 34
        }
      },
      "outputs": [
        {
          "output_type": "execute_result",
          "data": {
            "text/plain": [
              "'M'"
            ],
            "application/vnd.google.colaboratory.intrinsic+json": {
              "type": "string"
            }
          },
          "metadata": {},
          "execution_count": 103
        }
      ],
      "source": [
        "data[2][0]"
      ]
    },
    {
      "cell_type": "code",
      "execution_count": null,
      "metadata": {
        "id": "ODxFEFb6Rzme",
        "outputId": "914ca015-1459-48e1-e58f-271200fadd62",
        "colab": {
          "base_uri": "https://localhost:8080/"
        }
      },
      "outputs": [
        {
          "output_type": "execute_result",
          "data": {
            "text/plain": [
              "6"
            ]
          },
          "metadata": {},
          "execution_count": 104
        }
      ],
      "source": [
        "len(data)"
      ]
    },
    {
      "cell_type": "code",
      "execution_count": null,
      "metadata": {
        "id": "k8zOnP5zRzme",
        "outputId": "a555967f-4abe-4aa7-880b-d67b685e7204",
        "colab": {
          "base_uri": "https://localhost:8080/"
        }
      },
      "outputs": [
        {
          "output_type": "execute_result",
          "data": {
            "text/plain": [
              "[10, 21, 'Manager', ['Manager', 89000], 4.5, 'Dhaka']"
            ]
          },
          "metadata": {},
          "execution_count": 105
        }
      ],
      "source": [
        "data"
      ]
    },
    {
      "cell_type": "markdown",
      "metadata": {
        "id": "UgYmz8egRzme"
      },
      "source": [
        "Some list methods"
      ]
    },
    {
      "cell_type": "code",
      "execution_count": null,
      "metadata": {
        "id": "Jv-Oj-oNRzme",
        "outputId": "27134014-c522-4557-8672-037727c5fb56",
        "colab": {
          "base_uri": "https://localhost:8080/"
        }
      },
      "outputs": [
        {
          "output_type": "stream",
          "name": "stdout",
          "text": [
            "[21, 'Manager', ['Manager', 89000], 4.5, 'Dhaka', 100]\n"
          ]
        }
      ],
      "source": [
        "data = [21, 'Manager', ['Manager', 89000] ,4.50, 'Dhaka']\n",
        "data.append(100)\n",
        "print(data)"
      ]
    },
    {
      "cell_type": "code",
      "source": [
        "data = [21, 'Manager', ['Manager', 89000] ,4.50, 'Dhaka']\n",
        "data.insert(2,100)\n",
        "print(data)"
      ],
      "metadata": {
        "colab": {
          "base_uri": "https://localhost:8080/"
        },
        "id": "M5aM4EXeQMIZ",
        "outputId": "21d8a392-d36b-4c52-e9e9-f229fd80cbf7"
      },
      "execution_count": null,
      "outputs": [
        {
          "output_type": "stream",
          "name": "stdout",
          "text": [
            "[21, 'Manager', 100, ['Manager', 89000], 4.5, 'Dhaka']\n"
          ]
        }
      ]
    },
    {
      "cell_type": "code",
      "execution_count": null,
      "metadata": {
        "id": "CZ6yqnLARzmf",
        "outputId": "33d0b903-f107-43fb-8320-4f74d40cbef4",
        "colab": {
          "base_uri": "https://localhost:8080/"
        }
      },
      "outputs": [
        {
          "output_type": "stream",
          "name": "stdout",
          "text": [
            "[21, 'Manager', ['Manager', 89000], 'Dhaka']\n"
          ]
        }
      ],
      "source": [
        "data = [21, 'Manager', ['Manager', 89000] ,4.50, 'Dhaka']\n",
        "data.remove(4.5)\n",
        "print(data)"
      ]
    },
    {
      "cell_type": "code",
      "execution_count": null,
      "metadata": {
        "id": "tKqaqnIBRzmf",
        "outputId": "b63128ba-b92a-46ea-cd44-f9b92ec6b04f",
        "colab": {
          "base_uri": "https://localhost:8080/"
        }
      },
      "outputs": [
        {
          "output_type": "stream",
          "name": "stdout",
          "text": [
            "[21, ['Manager', 89000], 4.5, 'Dhaka']\n"
          ]
        }
      ],
      "source": [
        "data = [21, 'Manager', ['Manager', 89000] ,4.50, 'Dhaka']\n",
        "data.pop(1)\n",
        "print(data)"
      ]
    },
    {
      "cell_type": "code",
      "execution_count": null,
      "metadata": {
        "id": "VFtxe-7pRzmf",
        "colab": {
          "base_uri": "https://localhost:8080/"
        },
        "outputId": "5c78665c-7499-4dd4-8dd3-e38f516259be"
      },
      "outputs": [
        {
          "output_type": "execute_result",
          "data": {
            "text/plain": [
              "['__add__',\n",
              " '__class__',\n",
              " '__class_getitem__',\n",
              " '__contains__',\n",
              " '__delattr__',\n",
              " '__delitem__',\n",
              " '__dir__',\n",
              " '__doc__',\n",
              " '__eq__',\n",
              " '__format__',\n",
              " '__ge__',\n",
              " '__getattribute__',\n",
              " '__getitem__',\n",
              " '__gt__',\n",
              " '__hash__',\n",
              " '__iadd__',\n",
              " '__imul__',\n",
              " '__init__',\n",
              " '__init_subclass__',\n",
              " '__iter__',\n",
              " '__le__',\n",
              " '__len__',\n",
              " '__lt__',\n",
              " '__mul__',\n",
              " '__ne__',\n",
              " '__new__',\n",
              " '__reduce__',\n",
              " '__reduce_ex__',\n",
              " '__repr__',\n",
              " '__reversed__',\n",
              " '__rmul__',\n",
              " '__setattr__',\n",
              " '__setitem__',\n",
              " '__sizeof__',\n",
              " '__str__',\n",
              " '__subclasshook__',\n",
              " 'append',\n",
              " 'clear',\n",
              " 'copy',\n",
              " 'count',\n",
              " 'extend',\n",
              " 'index',\n",
              " 'insert',\n",
              " 'pop',\n",
              " 'remove',\n",
              " 'reverse',\n",
              " 'sort']"
            ]
          },
          "metadata": {},
          "execution_count": 110
        }
      ],
      "source": [
        "dir(data)"
      ]
    },
    {
      "cell_type": "code",
      "execution_count": null,
      "metadata": {
        "id": "8EW2S40DRzmf"
      },
      "outputs": [],
      "source": [
        "#help(data.insert)"
      ]
    },
    {
      "cell_type": "markdown",
      "metadata": {
        "id": "7SDG91olRzmf"
      },
      "source": [
        "Lists also support operations like concatenation"
      ]
    },
    {
      "cell_type": "code",
      "execution_count": null,
      "metadata": {
        "id": "yyLLhPTYRzmf",
        "outputId": "d698635d-41eb-4db9-cfe8-309c943fb6d8",
        "colab": {
          "base_uri": "https://localhost:8080/"
        }
      },
      "outputs": [
        {
          "output_type": "execute_result",
          "data": {
            "text/plain": [
              "['Foysal',\n",
              " 'Nahid',\n",
              " 'Arif',\n",
              " 'Zahid',\n",
              " 'Arafat',\n",
              " 21,\n",
              " ['Manager', 89000],\n",
              " 4.5,\n",
              " 'Dhaka']"
            ]
          },
          "metadata": {},
          "execution_count": 117
        }
      ],
      "source": [
        "# greet = 'Hello'\n",
        "name + data"
      ]
    },
    {
      "cell_type": "markdown",
      "metadata": {
        "id": "s235DeNcRzmf"
      },
      "source": [
        "<b> Exercise 4:</b> Implement stack using list\n",
        "<p><b>Hints:</b> The list methods make it very easy to use a list as a stack, where the last element added is the first element retrieved (“last-in, first-out”). To add an item to the top of the stack, use append(). To retrieve an item from the top of the stack, use pop() without an explicit index</p>"
      ]
    },
    {
      "cell_type": "code",
      "execution_count": null,
      "metadata": {
        "id": "Ch_6MsYeRzmf",
        "colab": {
          "base_uri": "https://localhost:8080/"
        },
        "outputId": "95c27d91-3d22-4a34-b69f-596ecb9792cc"
      },
      "outputs": [
        {
          "output_type": "stream",
          "name": "stdout",
          "text": [
            "['F', 'O', 'Y', 'S', 'A', 'L']\n",
            "['F', 'O', 'Y', 'S', 'A']\n",
            "['F', 'O', 'Y', 'S']\n",
            "['F', 'O', 'Y']\n",
            "['F', 'O']\n"
          ]
        }
      ],
      "source": [
        "# code here\n",
        "# LIFO\n",
        "stack = []\n",
        "stack.append('F')\n",
        "stack.append('O')\n",
        "stack.append('Y')\n",
        "stack.append('S')\n",
        "stack.append('A')\n",
        "stack.append('L')\n",
        "print(stack)\n",
        "stack.pop()\n",
        "print(stack)\n",
        "stack.pop()\n",
        "print(stack)\n",
        "stack.pop()\n",
        "print(stack)\n",
        "stack.pop()\n",
        "print(stack)\n"
      ]
    },
    {
      "cell_type": "markdown",
      "metadata": {
        "id": "8IBYDynXRzmg"
      },
      "source": [
        "<b> Exercise 5:</b> Implement queue using list\n",
        "<p><b>Hints:</b> It is also possible to use a list as a queue, where the first element added is the first element retrieved (“first-in, first-out”)</p>"
      ]
    },
    {
      "cell_type": "code",
      "execution_count": null,
      "metadata": {
        "id": "g5EYaRjnRzmg",
        "colab": {
          "base_uri": "https://localhost:8080/"
        },
        "outputId": "c3805989-b615-4225-9c2c-21305a90f700"
      },
      "outputs": [
        {
          "output_type": "stream",
          "name": "stdout",
          "text": [
            "['F', 'O', 'Y', 'S', 'A', 'L']\n",
            "['O', 'Y', 'S', 'A', 'L']\n",
            "['O', 'Y', 'S', 'L']\n"
          ]
        }
      ],
      "source": [
        "# code here\n",
        "queue = []\n",
        "queue.append('F')\n",
        "queue.append('O')\n",
        "queue.append('Y')\n",
        "queue.append('S')\n",
        "queue.append('A')\n",
        "queue.append('L')\n",
        "print(queue)\n",
        "queue.pop(0)\n",
        "print(queue)\n",
        "queue.pop(3)\n",
        "print(queue)\n",
        "\n"
      ]
    },
    {
      "cell_type": "markdown",
      "metadata": {
        "id": "TQ0Azt_2Rzmg"
      },
      "source": [
        "# Dictionary\n",
        "<p style=\"text-align: justify\">Dictionaries are sometimes found in other languages as “associative memories” or “associative arrays”. Unlike sequences, which are indexed by a range of numbers, dictionaries are indexed by keys, which can be any immutable type; strings and numbers can always be keys.</p>\n",
        "\n",
        "<p style=\"text-align: justify\">It is best to think of a dictionary as a set of key: value pairs, with the requirement that the keys are unique (within one dictionary). A pair of braces creates an empty dictionary: {}. Placing a comma-separated list of key:value pairs within the braces adds initial key:value pairs to the dictionary; this is also the way dictionaries are written on output.</p>"
      ]
    },
    {
      "cell_type": "code",
      "execution_count": null,
      "metadata": {
        "id": "re9nWSYYRzmg",
        "colab": {
          "base_uri": "https://localhost:8080/"
        },
        "outputId": "c68f00e7-d8b4-4414-9b79-9b1e34fba2c7"
      },
      "outputs": [
        {
          "output_type": "stream",
          "name": "stdout",
          "text": [
            "{'jack': 4098, 'sape': 4139}\n"
          ]
        }
      ],
      "source": [
        "tel = {'jack': 4098, 'sape': 4139}\n",
        "print(tel)"
      ]
    },
    {
      "cell_type": "code",
      "source": [
        "list(tel.keys())[1]\n"
      ],
      "metadata": {
        "colab": {
          "base_uri": "https://localhost:8080/",
          "height": 34
        },
        "id": "If-U0e50Ihle",
        "outputId": "a060008c-35aa-4571-ca5d-087b6163a7e4"
      },
      "execution_count": null,
      "outputs": [
        {
          "output_type": "execute_result",
          "data": {
            "text/plain": [
              "'sape'"
            ],
            "application/vnd.google.colaboratory.intrinsic+json": {
              "type": "string"
            }
          },
          "metadata": {},
          "execution_count": 128
        }
      ]
    },
    {
      "cell_type": "code",
      "execution_count": null,
      "metadata": {
        "id": "2GNIumzqRzmg",
        "outputId": "ddbe80bb-569f-49ac-e046-e1ea37843567",
        "colab": {
          "base_uri": "https://localhost:8080/"
        }
      },
      "outputs": [
        {
          "output_type": "execute_result",
          "data": {
            "text/plain": [
              "{'jack': 4098, 'sape': 4139, 'guido': 4127}"
            ]
          },
          "metadata": {},
          "execution_count": 129
        }
      ],
      "source": [
        "tel['guido'] = 4127\n",
        "tel"
      ]
    },
    {
      "cell_type": "code",
      "execution_count": null,
      "metadata": {
        "id": "KzHZZf9ERzmg"
      },
      "outputs": [],
      "source": [
        "person = {'Age':21,'Name':['niaz','rahman'], 'Salary':56000, 'Rating':4.50}"
      ]
    },
    {
      "cell_type": "code",
      "execution_count": null,
      "metadata": {
        "id": "onihNMhoRzmg",
        "outputId": "5110a8fc-3613-473f-e1f7-b46a3e9074c7",
        "colab": {
          "base_uri": "https://localhost:8080/"
        }
      },
      "outputs": [
        {
          "output_type": "execute_result",
          "data": {
            "text/plain": [
              "4.5"
            ]
          },
          "metadata": {},
          "execution_count": 131
        }
      ],
      "source": [
        "person['Rating']"
      ]
    },
    {
      "cell_type": "code",
      "execution_count": null,
      "metadata": {
        "id": "SII5SLdbRzmg",
        "outputId": "7ee219cc-27e9-4e1d-a800-2a71f68bfdd5",
        "colab": {
          "base_uri": "https://localhost:8080/"
        }
      },
      "outputs": [
        {
          "output_type": "execute_result",
          "data": {
            "text/plain": [
              "4"
            ]
          },
          "metadata": {},
          "execution_count": 132
        }
      ],
      "source": [
        "len(person)"
      ]
    },
    {
      "cell_type": "code",
      "execution_count": null,
      "metadata": {
        "id": "x2Zc_drHRzmh",
        "outputId": "d57f397a-b241-411d-9497-2e2dba8615bf",
        "colab": {
          "base_uri": "https://localhost:8080/"
        }
      },
      "outputs": [
        {
          "output_type": "execute_result",
          "data": {
            "text/plain": [
              "dict_keys(['Age', 'Name', 'Salary', 'Rating'])"
            ]
          },
          "metadata": {},
          "execution_count": 133
        }
      ],
      "source": [
        "person.keys()"
      ]
    },
    {
      "cell_type": "code",
      "execution_count": null,
      "metadata": {
        "id": "l_yR04F0Rzmh",
        "outputId": "d1bdc452-4e0a-4af2-a4f4-27738968f2e9",
        "colab": {
          "base_uri": "https://localhost:8080/"
        }
      },
      "outputs": [
        {
          "output_type": "execute_result",
          "data": {
            "text/plain": [
              "True"
            ]
          },
          "metadata": {},
          "execution_count": 134
        }
      ],
      "source": [
        "#person.has_key('Name')\n",
        "'Name' in person.keys()"
      ]
    },
    {
      "cell_type": "code",
      "execution_count": null,
      "metadata": {
        "id": "Enge3DbtRzmh",
        "outputId": "deeef439-726b-4214-f2b6-da61c002793c",
        "colab": {
          "base_uri": "https://localhost:8080/"
        }
      },
      "outputs": [
        {
          "output_type": "execute_result",
          "data": {
            "text/plain": [
              "True"
            ]
          },
          "metadata": {},
          "execution_count": 135
        }
      ],
      "source": [
        "'niaz' in person['Name']"
      ]
    },
    {
      "cell_type": "code",
      "execution_count": null,
      "metadata": {
        "id": "Lp68r5LJRzmh"
      },
      "outputs": [],
      "source": [
        "#dir(person)"
      ]
    },
    {
      "cell_type": "markdown",
      "metadata": {
        "id": "6-O7lD6gRzmh"
      },
      "source": [
        "<b> Exercise 6:</b> Define a dictionary to store the details of persons. Also, print some data from the dictionary.\n",
        " <p><b>Hint:</b> You may require nesting dictionary, lists, string inside the dictionary.</p>"
      ]
    },
    {
      "cell_type": "code",
      "execution_count": null,
      "metadata": {
        "id": "UNx0mYDNRzmh",
        "colab": {
          "base_uri": "https://localhost:8080/"
        },
        "outputId": "880345c5-36d7-4b2d-b8f4-0b4ad6f15fd0"
      },
      "outputs": [
        {
          "output_type": "stream",
          "name": "stdout",
          "text": [
            "{'Foysal': {'Id': '22-47225-1', 'Home town': 'Chandpur', 'Semester': '7th', 'Interests': ['Cricket', 'Football']}, 'Zahid': {'Id': '21-47225-3', 'Home town': 'Chandpur', 'Semester': '8th', 'Interests': ['Cricket', 'Carom']}, 'Mahi': {'Id': '22-47300-1', 'Home town': 'Dhaka', 'Semester': '7th', 'Interests': ['Gaming', 'Football']}}\n",
            "\n",
            "Foysal's Id: 22-47225-1\n"
          ]
        }
      ],
      "source": [
        "# Code here\n",
        "students = {\n",
        "    'Foysal':{'Id':'22-47225-1' , 'Home town':'Chandpur', 'Semester':'7th', 'Interests':['Cricket', 'Football']},\n",
        "    'Zahid':{'Id':'21-47225-3' , 'Home town':'Chandpur', 'Semester':'8th', 'Interests':['Cricket', 'Carom']},\n",
        "    'Mahi':{'Id':'22-47300-1' , 'Home town':'Dhaka', 'Semester':'7th', 'Interests':['Gaming', 'Football']}\n",
        "}\n",
        "print(students)\n",
        "print(\"\\nFoysal's Id:\", students['Foysal']['Id'])"
      ]
    },
    {
      "cell_type": "markdown",
      "metadata": {
        "id": "4S_g-H7rRzmh"
      },
      "source": [
        "# Tuples and Sets\n",
        "<b>Exercise 7: (Optional)</b> Use the content from [here](https://docs.python.org/3/tutorial/datastructures.html#tuples-and-sequences) to follow some examples on tuple and set."
      ]
    },
    {
      "cell_type": "code",
      "execution_count": null,
      "metadata": {
        "id": "LpzjdV5RRzmh",
        "colab": {
          "base_uri": "https://localhost:8080/"
        },
        "outputId": "d3f5aabb-9909-4816-961d-e16ea69be17e"
      },
      "outputs": [
        {
          "output_type": "stream",
          "name": "stdout",
          "text": [
            "t[0]: 12345\n",
            "t: (12345, 54321, 'hello!')\n",
            "u: ((12345, 54321, 'hello!'), (1, 2, 3, 4, 5))\n",
            "not possible\n",
            "v: ([1, 2, 3], [3, 2, 1])\n"
          ]
        }
      ],
      "source": [
        "# code from here\n",
        "t = 12345, 54321, 'hello!'\n",
        "print(\"t[0]:\", t[0])\n",
        "print(\"t:\", t)\n",
        "\n",
        "u = t, (1, 2, 3, 4, 5)\n",
        "print(\"u:\", u)\n",
        "try:\n",
        "    t[0] = 88888\n",
        "except TypeError:\n",
        "    print('not possible')\n",
        "\n",
        "v = ([1, 2, 3], [3, 2, 1])\n",
        "print(\"v:\", v)"
      ]
    }
  ],
  "metadata": {
    "kernelspec": {
      "display_name": "Python 3",
      "language": "python",
      "name": "python3"
    },
    "language_info": {
      "codemirror_mode": {
        "name": "ipython",
        "version": 3
      },
      "file_extension": ".py",
      "mimetype": "text/x-python",
      "name": "python",
      "nbconvert_exporter": "python",
      "pygments_lexer": "ipython3",
      "version": "3.8.5"
    },
    "colab": {
      "provenance": []
    }
  },
  "nbformat": 4,
  "nbformat_minor": 0
}
